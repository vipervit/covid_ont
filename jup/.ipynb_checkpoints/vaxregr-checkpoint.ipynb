{
 "cells": [
  {
   "cell_type": "code",
   "execution_count": 1,
   "metadata": {},
   "outputs": [],
   "source": [
    "import os\n",
    "import sys\n",
    "import pandas as pd\n",
    "import matplotlib.pyplot as plt\n",
    "import seaborn as sns\n",
    "from matplotlib.dates import DateFormatter\n",
    "from matplotlib import ticker\n",
    "import matplotlib.dates as mdates\n",
    "import warnings\n",
    "warnings.simplefilter(action='ignore', category=FutureWarning)\n",
    "# warnings.simplefilter(action='ignore', category='SettingWithCopyWarning')\n",
    "from sklearn.linear_model import LinearRegression, Ridge, RidgeCV\n",
    "from sklearn.preprocessing import PolynomialFeatures\n",
    "from sklearn.model_selection import train_test_split\n",
    "from sklearn.pipeline import make_pipeline\n",
    "import numpy as np"
   ]
  },
  {
   "cell_type": "code",
   "execution_count": 2,
   "metadata": {},
   "outputs": [],
   "source": [
    "sys.path.append(os.getenv('DEV_HOME'))\n",
    "sys.path.append(os.getenv('SITES_HOME'))"
   ]
  },
  {
   "cell_type": "code",
   "execution_count": 3,
   "metadata": {},
   "outputs": [],
   "source": [
    "import covid_ont\n",
    "from covid_ont import dataset_read, dataset_get, DIR_IMAGES, FIGSIZES"
   ]
  },
  {
   "cell_type": "code",
   "execution_count": 4,
   "metadata": {},
   "outputs": [],
   "source": [
    "ontario_pop_estimate=14755211 # Q1 2021, source: https://www150.statcan.gc.ca/t1/tbl1/en/tv.action?pid=1710000901\n",
    "forecast_depth=300"
   ]
  },
  {
   "cell_type": "markdown",
   "metadata": {},
   "source": [
    "## Data"
   ]
  },
  {
   "cell_type": "code",
   "execution_count": null,
   "metadata": {},
   "outputs": [],
   "source": []
  },
  {
   "cell_type": "code",
   "execution_count": 5,
   "metadata": {},
   "outputs": [
    {
     "data": {
      "text/html": [
       "<div>\n",
       "<style scoped>\n",
       "    .dataframe tbody tr th:only-of-type {\n",
       "        vertical-align: middle;\n",
       "    }\n",
       "\n",
       "    .dataframe tbody tr th {\n",
       "        vertical-align: top;\n",
       "    }\n",
       "\n",
       "    .dataframe thead th {\n",
       "        text-align: right;\n",
       "    }\n",
       "</style>\n",
       "<table border=\"1\" class=\"dataframe\">\n",
       "  <thead>\n",
       "    <tr style=\"text-align: right;\">\n",
       "      <th></th>\n",
       "      <th>Previous Day Doses Administered</th>\n",
       "      <th>Total Doses</th>\n",
       "      <th>Percentage of Population Vaccinated with One Dose</th>\n",
       "      <th>Total Doses in Fully Vaccinated</th>\n",
       "      <th>Total Fully Vaccinated</th>\n",
       "      <th>Percentage of Population Fully Vaccinated</th>\n",
       "    </tr>\n",
       "    <tr>\n",
       "      <th>Date</th>\n",
       "      <th></th>\n",
       "      <th></th>\n",
       "      <th></th>\n",
       "      <th></th>\n",
       "      <th></th>\n",
       "      <th></th>\n",
       "    </tr>\n",
       "  </thead>\n",
       "  <tbody>\n",
       "    <tr>\n",
       "      <th>2021-05-03</th>\n",
       "      <td>53880</td>\n",
       "      <td>5378249</td>\n",
       "      <td>0</td>\n",
       "      <td>751810</td>\n",
       "      <td>375905</td>\n",
       "      <td>0</td>\n",
       "    </tr>\n",
       "    <tr>\n",
       "      <th>2021-05-04</th>\n",
       "      <td>88871</td>\n",
       "      <td>5467120</td>\n",
       "      <td>0</td>\n",
       "      <td>756170</td>\n",
       "      <td>378085</td>\n",
       "      <td>0</td>\n",
       "    </tr>\n",
       "    <tr>\n",
       "      <th>2021-05-05</th>\n",
       "      <td>132603</td>\n",
       "      <td>5599723</td>\n",
       "      <td>0</td>\n",
       "      <td>762246</td>\n",
       "      <td>381123</td>\n",
       "      <td>0</td>\n",
       "    </tr>\n",
       "    <tr>\n",
       "      <th>2021-05-06</th>\n",
       "      <td>141038</td>\n",
       "      <td>5740761</td>\n",
       "      <td>0</td>\n",
       "      <td>769178</td>\n",
       "      <td>384589</td>\n",
       "      <td>0</td>\n",
       "    </tr>\n",
       "    <tr>\n",
       "      <th>2021-05-07</th>\n",
       "      <td>144724</td>\n",
       "      <td>5885485</td>\n",
       "      <td>0</td>\n",
       "      <td>774968</td>\n",
       "      <td>387484</td>\n",
       "      <td>0</td>\n",
       "    </tr>\n",
       "  </tbody>\n",
       "</table>\n",
       "</div>"
      ],
      "text/plain": [
       "            Previous Day Doses Administered  Total Doses  \\\n",
       "Date                                                       \n",
       "2021-05-03                            53880      5378249   \n",
       "2021-05-04                            88871      5467120   \n",
       "2021-05-05                           132603      5599723   \n",
       "2021-05-06                           141038      5740761   \n",
       "2021-05-07                           144724      5885485   \n",
       "\n",
       "            Percentage of Population Vaccinated with One Dose  \\\n",
       "Date                                                            \n",
       "2021-05-03                                                  0   \n",
       "2021-05-04                                                  0   \n",
       "2021-05-05                                                  0   \n",
       "2021-05-06                                                  0   \n",
       "2021-05-07                                                  0   \n",
       "\n",
       "            Total Doses in Fully Vaccinated  Total Fully Vaccinated  \\\n",
       "Date                                                                  \n",
       "2021-05-03                           751810                  375905   \n",
       "2021-05-04                           756170                  378085   \n",
       "2021-05-05                           762246                  381123   \n",
       "2021-05-06                           769178                  384589   \n",
       "2021-05-07                           774968                  387484   \n",
       "\n",
       "            Percentage of Population Fully Vaccinated  \n",
       "Date                                                   \n",
       "2021-05-03                                          0  \n",
       "2021-05-04                                          0  \n",
       "2021-05-05                                          0  \n",
       "2021-05-06                                          0  \n",
       "2021-05-07                                          0  "
      ]
     },
     "execution_count": 5,
     "metadata": {},
     "output_type": "execute_result"
    }
   ],
   "source": [
    "df=dataset_read('Vaccinations')\n",
    "df.columns=['Date', 'Previous Day Doses Administered', 'Total Doses', 'Total Doses in Fully Vaccinated', 'Total Fully Vaccinated']\n",
    "df.fillna(0, inplace=True)\n",
    "df.set_index('Date', inplace=True)\n",
    "df=df.astype(int)\n",
    "df.index=pd.to_datetime(df.index)\n",
    "df.insert(column='Percentage of Population Vaccinated with One Dose', loc=2, value=0)\n",
    "df.insert(column='Percentage of Population Fully Vaccinated', loc=5, value=0)\n",
    "df.tail()"
   ]
  },
  {
   "cell_type": "code",
   "execution_count": 6,
   "metadata": {},
   "outputs": [
    {
     "data": {
      "text/plain": [
       "(130, 6)"
      ]
     },
     "execution_count": 6,
     "metadata": {},
     "output_type": "execute_result"
    }
   ],
   "source": [
    "df.shape"
   ]
  },
  {
   "cell_type": "code",
   "execution_count": 7,
   "metadata": {},
   "outputs": [
    {
     "data": {
      "text/html": [
       "<div>\n",
       "<style scoped>\n",
       "    .dataframe tbody tr th:only-of-type {\n",
       "        vertical-align: middle;\n",
       "    }\n",
       "\n",
       "    .dataframe tbody tr th {\n",
       "        vertical-align: top;\n",
       "    }\n",
       "\n",
       "    .dataframe thead th {\n",
       "        text-align: right;\n",
       "    }\n",
       "</style>\n",
       "<table border=\"1\" class=\"dataframe\">\n",
       "  <thead>\n",
       "    <tr style=\"text-align: right;\">\n",
       "      <th></th>\n",
       "      <th>Previous Day Doses Administered</th>\n",
       "      <th>Total Doses</th>\n",
       "      <th>Percentage of Population Vaccinated with One Dose</th>\n",
       "      <th>Total Doses in Fully Vaccinated</th>\n",
       "      <th>Total Fully Vaccinated</th>\n",
       "      <th>Percentage of Population Fully Vaccinated</th>\n",
       "    </tr>\n",
       "    <tr>\n",
       "      <th>Date</th>\n",
       "      <th></th>\n",
       "      <th></th>\n",
       "      <th></th>\n",
       "      <th></th>\n",
       "      <th></th>\n",
       "      <th></th>\n",
       "    </tr>\n",
       "  </thead>\n",
       "  <tbody>\n",
       "    <tr>\n",
       "      <th>2021-05-03</th>\n",
       "      <td>53880</td>\n",
       "      <td>5378249</td>\n",
       "      <td>36.449828</td>\n",
       "      <td>751810</td>\n",
       "      <td>375905</td>\n",
       "      <td>2.547608</td>\n",
       "    </tr>\n",
       "    <tr>\n",
       "      <th>2021-05-04</th>\n",
       "      <td>88871</td>\n",
       "      <td>5467120</td>\n",
       "      <td>37.052130</td>\n",
       "      <td>756170</td>\n",
       "      <td>378085</td>\n",
       "      <td>2.562383</td>\n",
       "    </tr>\n",
       "    <tr>\n",
       "      <th>2021-05-05</th>\n",
       "      <td>132603</td>\n",
       "      <td>5599723</td>\n",
       "      <td>37.950816</td>\n",
       "      <td>762246</td>\n",
       "      <td>381123</td>\n",
       "      <td>2.582972</td>\n",
       "    </tr>\n",
       "    <tr>\n",
       "      <th>2021-05-06</th>\n",
       "      <td>141038</td>\n",
       "      <td>5740761</td>\n",
       "      <td>38.906668</td>\n",
       "      <td>769178</td>\n",
       "      <td>384589</td>\n",
       "      <td>2.606462</td>\n",
       "    </tr>\n",
       "    <tr>\n",
       "      <th>2021-05-07</th>\n",
       "      <td>144724</td>\n",
       "      <td>5885485</td>\n",
       "      <td>39.887501</td>\n",
       "      <td>774968</td>\n",
       "      <td>387484</td>\n",
       "      <td>2.626082</td>\n",
       "    </tr>\n",
       "  </tbody>\n",
       "</table>\n",
       "</div>"
      ],
      "text/plain": [
       "            Previous Day Doses Administered  Total Doses  \\\n",
       "Date                                                       \n",
       "2021-05-03                            53880      5378249   \n",
       "2021-05-04                            88871      5467120   \n",
       "2021-05-05                           132603      5599723   \n",
       "2021-05-06                           141038      5740761   \n",
       "2021-05-07                           144724      5885485   \n",
       "\n",
       "            Percentage of Population Vaccinated with One Dose  \\\n",
       "Date                                                            \n",
       "2021-05-03                                          36.449828   \n",
       "2021-05-04                                          37.052130   \n",
       "2021-05-05                                          37.950816   \n",
       "2021-05-06                                          38.906668   \n",
       "2021-05-07                                          39.887501   \n",
       "\n",
       "            Total Doses in Fully Vaccinated  Total Fully Vaccinated  \\\n",
       "Date                                                                  \n",
       "2021-05-03                           751810                  375905   \n",
       "2021-05-04                           756170                  378085   \n",
       "2021-05-05                           762246                  381123   \n",
       "2021-05-06                           769178                  384589   \n",
       "2021-05-07                           774968                  387484   \n",
       "\n",
       "            Percentage of Population Fully Vaccinated  \n",
       "Date                                                   \n",
       "2021-05-03                                   2.547608  \n",
       "2021-05-04                                   2.562383  \n",
       "2021-05-05                                   2.582972  \n",
       "2021-05-06                                   2.606462  \n",
       "2021-05-07                                   2.626082  "
      ]
     },
     "execution_count": 7,
     "metadata": {},
     "output_type": "execute_result"
    }
   ],
   "source": [
    "df['Percentage of Population Vaccinated with One Dose']= df['Total Doses'].apply(lambda x: x*100/ontario_pop_estimate)\n",
    "df['Percentage of Population Fully Vaccinated'] = df['Total Fully Vaccinated'].apply(lambda x: x*100/ontario_pop_estimate)\n",
    "df.tail()"
   ]
  },
  {
   "cell_type": "code",
   "execution_count": 8,
   "metadata": {},
   "outputs": [
    {
     "data": {
      "text/plain": [
       "<AxesSubplot:xlabel='Date'>"
      ]
     },
     "execution_count": 8,
     "metadata": {},
     "output_type": "execute_result"
    },
    {
     "data": {
      "image/png": "[encoded data removed]",
      "text/plain": [
       "<Figure size 1080x288 with 1 Axes>"
      ]
     },
     "metadata": {
      "needs_background": "light"
     },
     "output_type": "display_data"
    }
   ],
   "source": [
    "df[['Percentage of Population Vaccinated with One Dose']].plot(figsize=(15,4))"
   ]
  },
  {
   "cell_type": "code",
   "execution_count": 9,
   "metadata": {},
   "outputs": [
    {
     "data": {
      "text/plain": [
       "<AxesSubplot:xlabel='Date'>"
      ]
     },
     "execution_count": 9,
     "metadata": {},
     "output_type": "execute_result"
    },
    {
     "data": {
      "image/png": "[encoded data removed]",
      "text/plain": [
       "<Figure size 1080x288 with 1 Axes>"
      ]
     },
     "metadata": {
      "needs_background": "light"
     },
     "output_type": "display_data"
    }
   ],
   "source": [
    "df[['Percentage of Population Fully Vaccinated']].plot(figsize=(15,4))"
   ]
  },
  {
   "cell_type": "markdown",
   "metadata": {},
   "source": [
    "## Time Expanded "
   ]
  },
  {
   "cell_type": "code",
   "execution_count": 10,
   "metadata": {},
   "outputs": [
    {
     "data": {
      "text/html": [
       "<div>\n",
       "<style scoped>\n",
       "    .dataframe tbody tr th:only-of-type {\n",
       "        vertical-align: middle;\n",
       "    }\n",
       "\n",
       "    .dataframe tbody tr th {\n",
       "        vertical-align: top;\n",
       "    }\n",
       "\n",
       "    .dataframe thead th {\n",
       "        text-align: right;\n",
       "    }\n",
       "</style>\n",
       "<table border=\"1\" class=\"dataframe\">\n",
       "  <thead>\n",
       "    <tr style=\"text-align: right;\">\n",
       "      <th></th>\n",
       "      <th>Previous Day Doses Administered</th>\n",
       "      <th>Total Doses</th>\n",
       "      <th>Percentage of Population Vaccinated with One Dose</th>\n",
       "      <th>Total Doses in Fully Vaccinated</th>\n",
       "      <th>Total Fully Vaccinated</th>\n",
       "      <th>Percentage of Population Fully Vaccinated</th>\n",
       "    </tr>\n",
       "  </thead>\n",
       "  <tbody>\n",
       "    <tr>\n",
       "      <th>2020-12-24</th>\n",
       "      <td>0</td>\n",
       "      <td>10756</td>\n",
       "      <td>0.072896</td>\n",
       "      <td>0</td>\n",
       "      <td>0</td>\n",
       "      <td>0.0</td>\n",
       "    </tr>\n",
       "    <tr>\n",
       "      <th>2020-12-30</th>\n",
       "      <td>4595</td>\n",
       "      <td>18603</td>\n",
       "      <td>0.126077</td>\n",
       "      <td>0</td>\n",
       "      <td>0</td>\n",
       "      <td>0.0</td>\n",
       "    </tr>\n",
       "    <tr>\n",
       "      <th>2020-12-31</th>\n",
       "      <td>5463</td>\n",
       "      <td>23502</td>\n",
       "      <td>0.159279</td>\n",
       "      <td>0</td>\n",
       "      <td>0</td>\n",
       "      <td>0.0</td>\n",
       "    </tr>\n",
       "    <tr>\n",
       "      <th>2021-01-01</th>\n",
       "      <td>5415</td>\n",
       "      <td>28887</td>\n",
       "      <td>0.195775</td>\n",
       "      <td>0</td>\n",
       "      <td>0</td>\n",
       "      <td>0.0</td>\n",
       "    </tr>\n",
       "    <tr>\n",
       "      <th>2021-01-02</th>\n",
       "      <td>4305</td>\n",
       "      <td>33191</td>\n",
       "      <td>0.224944</td>\n",
       "      <td>0</td>\n",
       "      <td>0</td>\n",
       "      <td>0.0</td>\n",
       "    </tr>\n",
       "    <tr>\n",
       "      <th>...</th>\n",
       "      <td>...</td>\n",
       "      <td>...</td>\n",
       "      <td>...</td>\n",
       "      <td>...</td>\n",
       "      <td>...</td>\n",
       "      <td>...</td>\n",
       "    </tr>\n",
       "    <tr>\n",
       "      <th>2022-02-26</th>\n",
       "      <td>0</td>\n",
       "      <td>0</td>\n",
       "      <td>0.000000</td>\n",
       "      <td>0</td>\n",
       "      <td>0</td>\n",
       "      <td>0.0</td>\n",
       "    </tr>\n",
       "    <tr>\n",
       "      <th>2022-02-27</th>\n",
       "      <td>0</td>\n",
       "      <td>0</td>\n",
       "      <td>0.000000</td>\n",
       "      <td>0</td>\n",
       "      <td>0</td>\n",
       "      <td>0.0</td>\n",
       "    </tr>\n",
       "    <tr>\n",
       "      <th>2022-02-28</th>\n",
       "      <td>0</td>\n",
       "      <td>0</td>\n",
       "      <td>0.000000</td>\n",
       "      <td>0</td>\n",
       "      <td>0</td>\n",
       "      <td>0.0</td>\n",
       "    </tr>\n",
       "    <tr>\n",
       "      <th>2022-03-01</th>\n",
       "      <td>0</td>\n",
       "      <td>0</td>\n",
       "      <td>0.000000</td>\n",
       "      <td>0</td>\n",
       "      <td>0</td>\n",
       "      <td>0.0</td>\n",
       "    </tr>\n",
       "    <tr>\n",
       "      <th>2022-03-02</th>\n",
       "      <td>0</td>\n",
       "      <td>0</td>\n",
       "      <td>0.000000</td>\n",
       "      <td>0</td>\n",
       "      <td>0</td>\n",
       "      <td>0.0</td>\n",
       "    </tr>\n",
       "  </tbody>\n",
       "</table>\n",
       "<p>430 rows × 6 columns</p>\n",
       "</div>"
      ],
      "text/plain": [
       "            Previous Day Doses Administered  Total Doses  \\\n",
       "2020-12-24                                0        10756   \n",
       "2020-12-30                             4595        18603   \n",
       "2020-12-31                             5463        23502   \n",
       "2021-01-01                             5415        28887   \n",
       "2021-01-02                             4305        33191   \n",
       "...                                     ...          ...   \n",
       "2022-02-26                                0            0   \n",
       "2022-02-27                                0            0   \n",
       "2022-02-28                                0            0   \n",
       "2022-03-01                                0            0   \n",
       "2022-03-02                                0            0   \n",
       "\n",
       "            Percentage of Population Vaccinated with One Dose  \\\n",
       "2020-12-24                                           0.072896   \n",
       "2020-12-30                                           0.126077   \n",
       "2020-12-31                                           0.159279   \n",
       "2021-01-01                                           0.195775   \n",
       "2021-01-02                                           0.224944   \n",
       "...                                                       ...   \n",
       "2022-02-26                                           0.000000   \n",
       "2022-02-27                                           0.000000   \n",
       "2022-02-28                                           0.000000   \n",
       "2022-03-01                                           0.000000   \n",
       "2022-03-02                                           0.000000   \n",
       "\n",
       "            Total Doses in Fully Vaccinated  Total Fully Vaccinated  \\\n",
       "2020-12-24                                0                       0   \n",
       "2020-12-30                                0                       0   \n",
       "2020-12-31                                0                       0   \n",
       "2021-01-01                                0                       0   \n",
       "2021-01-02                                0                       0   \n",
       "...                                     ...                     ...   \n",
       "2022-02-26                                0                       0   \n",
       "2022-02-27                                0                       0   \n",
       "2022-02-28                                0                       0   \n",
       "2022-03-01                                0                       0   \n",
       "2022-03-02                                0                       0   \n",
       "\n",
       "            Percentage of Population Fully Vaccinated  \n",
       "2020-12-24                                        0.0  \n",
       "2020-12-30                                        0.0  \n",
       "2020-12-31                                        0.0  \n",
       "2021-01-01                                        0.0  \n",
       "2021-01-02                                        0.0  \n",
       "...                                               ...  \n",
       "2022-02-26                                        0.0  \n",
       "2022-02-27                                        0.0  \n",
       "2022-02-28                                        0.0  \n",
       "2022-03-01                                        0.0  \n",
       "2022-03-02                                        0.0  \n",
       "\n",
       "[430 rows x 6 columns]"
      ]
     },
     "execution_count": 10,
     "metadata": {},
     "output_type": "execute_result"
    }
   ],
   "source": [
    "df_future=df.append(pd.DataFrame([[0,0,0,0,0,0] for i in range(forecast_depth)], index=pd.date_range(start=df.index.max(), periods=forecast_depth, freq='D'), columns=df.columns))\n",
    "df_future"
   ]
  },
  {
   "cell_type": "code",
   "execution_count": 11,
   "metadata": {},
   "outputs": [
    {
     "data": {
      "text/plain": [
       "<AxesSubplot:>"
      ]
     },
     "execution_count": 11,
     "metadata": {},
     "output_type": "execute_result"
    },
    {
     "data": {
      "image/png": "[encoded data removed]",
      "text/plain": [
       "<Figure size 1080x504 with 1 Axes>"
      ]
     },
     "metadata": {
      "needs_background": "light"
     },
     "output_type": "display_data"
    }
   ],
   "source": [
    "df_future['Percentage of Population Vaccinated with One Dose'].plot(figsize=(15,7))"
   ]
  },
  {
   "cell_type": "markdown",
   "metadata": {},
   "source": [
    "## Model"
   ]
  },
  {
   "cell_type": "code",
   "execution_count": 12,
   "metadata": {},
   "outputs": [],
   "source": [
    "X_act=np.reshape(df.index, (-1,1)) \n",
    "y_act=df['Percentage of Population Vaccinated with One Dose']"
   ]
  },
  {
   "cell_type": "code",
   "execution_count": 13,
   "metadata": {},
   "outputs": [],
   "source": [
    "X_train, X_test, y_train, y_test = train_test_split(X_act, y_act, test_size=0.8, random_state=42)"
   ]
  },
  {
   "cell_type": "code",
   "execution_count": 14,
   "metadata": {},
   "outputs": [
    {
     "data": {
      "text/plain": [
       "0.9981331238401651"
      ]
     },
     "execution_count": 14,
     "metadata": {},
     "output_type": "execute_result"
    }
   ],
   "source": [
    "pipe=make_pipeline(PolynomialFeatures(degree=6), Ridge())\n",
    "pipe.fit(X_train, y_train).score(X_test, y_test)"
   ]
  },
  {
   "cell_type": "code",
   "execution_count": 15,
   "metadata": {},
   "outputs": [],
   "source": [
    "yhat=pipe.predict(X_act)"
   ]
  },
  {
   "cell_type": "code",
   "execution_count": 16,
   "metadata": {},
   "outputs": [
    {
     "data": {
      "text/plain": [
       "[<matplotlib.lines.Line2D at 0x11b833970>]"
      ]
     },
     "execution_count": 16,
     "metadata": {},
     "output_type": "execute_result"
    },
    {
     "data": {
      "image/png": "[encoded data removed]",
      "text/plain": [
       "<Figure size 1224x504 with 1 Axes>"
      ]
     },
     "metadata": {
      "needs_background": "light"
     },
     "output_type": "display_data"
    }
   ],
   "source": [
    "plt.figure(figsize=FIGSIZES)\n",
    "plt.plot(df.index, yhat)"
   ]
  },
  {
   "cell_type": "code",
   "execution_count": 17,
   "metadata": {},
   "outputs": [
    {
     "data": {
      "text/plain": [
       "<matplotlib.legend.Legend at 0x11c16fcd0>"
      ]
     },
     "execution_count": 17,
     "metadata": {},
     "output_type": "execute_result"
    },
    {
     "data": {
      "image/png": "[encoded data removed]",
      "text/plain": [
       "<Figure size 1224x504 with 1 Axes>"
      ]
     },
     "metadata": {
      "needs_background": "light"
     },
     "output_type": "display_data"
    }
   ],
   "source": [
    "plt.figure(figsize=FIGSIZES)\n",
    "sns.lineplot(x=df.index, y=y_act)\n",
    "sns.lineplot(x=df.index, y=yhat)\n",
    "plt.legend(['truth', 'predicted'])"
   ]
  },
  {
   "cell_type": "markdown",
   "metadata": {},
   "source": [
    "## Prediction"
   ]
  },
  {
   "cell_type": "code",
   "execution_count": 360,
   "metadata": {},
   "outputs": [
    {
     "data": {
      "text/html": [
       "<div>\n",
       "<style scoped>\n",
       "    .dataframe tbody tr th:only-of-type {\n",
       "        vertical-align: middle;\n",
       "    }\n",
       "\n",
       "    .dataframe tbody tr th {\n",
       "        vertical-align: top;\n",
       "    }\n",
       "\n",
       "    .dataframe thead th {\n",
       "        text-align: right;\n",
       "    }\n",
       "</style>\n",
       "<table border=\"1\" class=\"dataframe\">\n",
       "  <thead>\n",
       "    <tr style=\"text-align: right;\">\n",
       "      <th></th>\n",
       "      <th>Percentage of Population Vaccinated with One Dose</th>\n",
       "    </tr>\n",
       "  </thead>\n",
       "  <tbody>\n",
       "    <tr>\n",
       "      <th>2021-05-08</th>\n",
       "      <td>0.0</td>\n",
       "    </tr>\n",
       "    <tr>\n",
       "      <th>2021-05-09</th>\n",
       "      <td>0.0</td>\n",
       "    </tr>\n",
       "    <tr>\n",
       "      <th>2021-05-10</th>\n",
       "      <td>0.0</td>\n",
       "    </tr>\n",
       "    <tr>\n",
       "      <th>2021-05-11</th>\n",
       "      <td>0.0</td>\n",
       "    </tr>\n",
       "    <tr>\n",
       "      <th>2021-05-12</th>\n",
       "      <td>0.0</td>\n",
       "    </tr>\n",
       "    <tr>\n",
       "      <th>...</th>\n",
       "      <td>...</td>\n",
       "    </tr>\n",
       "    <tr>\n",
       "      <th>2022-02-26</th>\n",
       "      <td>0.0</td>\n",
       "    </tr>\n",
       "    <tr>\n",
       "      <th>2022-02-27</th>\n",
       "      <td>0.0</td>\n",
       "    </tr>\n",
       "    <tr>\n",
       "      <th>2022-02-28</th>\n",
       "      <td>0.0</td>\n",
       "    </tr>\n",
       "    <tr>\n",
       "      <th>2022-03-01</th>\n",
       "      <td>0.0</td>\n",
       "    </tr>\n",
       "    <tr>\n",
       "      <th>2022-03-02</th>\n",
       "      <td>0.0</td>\n",
       "    </tr>\n",
       "  </tbody>\n",
       "</table>\n",
       "<p>299 rows × 1 columns</p>\n",
       "</div>"
      ],
      "text/plain": [
       "            Percentage of Population Vaccinated with One Dose\n",
       "2021-05-08                                                0.0\n",
       "2021-05-09                                                0.0\n",
       "2021-05-10                                                0.0\n",
       "2021-05-11                                                0.0\n",
       "2021-05-12                                                0.0\n",
       "...                                                       ...\n",
       "2022-02-26                                                0.0\n",
       "2022-02-27                                                0.0\n",
       "2022-02-28                                                0.0\n",
       "2022-03-01                                                0.0\n",
       "2022-03-02                                                0.0\n",
       "\n",
       "[299 rows x 1 columns]"
      ]
     },
     "execution_count": 360,
     "metadata": {},
     "output_type": "execute_result"
    }
   ],
   "source": [
    "df_pred=df_future.loc[df_future.index>df.index.max()][['Percentage of Population Vaccinated with One Dose']]\n",
    "df_pred"
   ]
  },
  {
   "cell_type": "code",
   "execution_count": 361,
   "metadata": {},
   "outputs": [],
   "source": [
    "X_pred=np.reshape(df_pred.index, (-1,1))\n",
    "y_pred=pipe.predict(X_pred)"
   ]
  },
  {
   "cell_type": "code",
   "execution_count": 362,
   "metadata": {},
   "outputs": [],
   "source": [
    "df_pred['Percentage of Population Vaccinated with One Dose']=y_pred\n",
    "df_pred=df_pred[df_pred['Percentage of Population Vaccinated with One Dose']<100]\n",
    "df_plot_pred=df_pred.copy()\n",
    "df_plot_pred.columns=['Projection']"
   ]
  },
  {
   "cell_type": "code",
   "execution_count": 363,
   "metadata": {},
   "outputs": [],
   "source": [
    "df_plot_act=df.copy()[['Percentage of Population Vaccinated with One Dose']]\n",
    "df_plot_act.columns=['Actual']"
   ]
  },
  {
   "cell_type": "code",
   "execution_count": 408,
   "metadata": {},
   "outputs": [],
   "source": [
    "peak=df_plot_pred[df_plot_pred.index==df_plot_pred.index.max()]\n",
    "sevfive=df_plot_pred[df_plot_pred['Projection'].between(74, 76)]\n",
    "fifty=df_plot_pred[df_plot_pred['Projection'].between(49,51)]\n",
    "today=df_plot_act[df_plot_act.index==df_plot_act.index.max()]"
   ]
  },
  {
   "cell_type": "code",
   "execution_count": 454,
   "metadata": {},
   "outputs": [
    {
     "data": {
      "text/plain": [
       "<matplotlib.collections.LineCollection at 0x136f850d0>"
      ]
     },
     "execution_count": 454,
     "metadata": {},
     "output_type": "execute_result"
    },
    {
     "data": {
      "image/png": "[encoded data removed]",
      "text/plain": [
       "<Figure size 1224x504 with 1 Axes>"
      ]
     },
     "metadata": {
      "needs_background": "light"
     },
     "output_type": "display_data"
    }
   ],
   "source": [
    "# Plot\n",
    "arrowprops={'arrowstyle': '->', 'color': 'blue', 'lw': 4, 'ls': 'dashed'}\n",
    "labels=['Actual', 'Projection']\n",
    "plt.figure(figsize=FIGSIZES)\n",
    "plt.title('Percentage of Population Vaccinated with At Least One Dose', fontsize=15)\n",
    "ax=sns.lineplot(data=df_plot_act, palette=['red'], linewidth=4)\n",
    "sns.lineplot(data=df_plot_pred, palette=['blue'], linewidth=4)\n",
    "ax.set_xlabel('')\n",
    "plt.xlim(df_plot_act.index[0], df_pred.index.max())\n",
    "plt.legend(loc='best')\n",
    "plt.ylim(0, 110)\n",
    "plt.grid()\n",
    "\n",
    "# plt.text(peak.index, 95, '100%', color='b', fontsize=14)\n",
    "plt.text(df_plot_act.index.mean(), peak['Projection']+5, peak.index[0].strftime('%d-%b-%Y'), color='blue', fontsize=12)\n",
    "plt.text(df_plot_act.index.mean(), today['Actual']+5, today.index[0].strftime('%d-%b-%Y'), color='red', fontsize=12)\n",
    "\n",
    "ax.hlines(today['Actual'], df_plot_act.index[0], today.index[0], linestyles='dashed', color='red')\n",
    "ax.hlines(peak['Projection'], df_plot_act.index.min(), df_plot_pred.index.max(), linestyles='dashed', color='blue')\n",
    "\n",
    "plt.vlines(today.index[0], today['Actual'], 0, linestyles='dashed', color='red')\n",
    "# plt.annotate(peak.index[0].strftime('%d-%b-%Y'), xy=(0.98, 0.91), xycoords='axes fraction', xytext=(0.8, 0.91), arrowprops=arrowprops, va='center', color='blue', fontsize=16)"
   ]
  },
  {
   "cell_type": "code",
   "execution_count": 444,
   "metadata": {},
   "outputs": [
    {
     "data": {
      "text/html": [
       "<div>\n",
       "<style scoped>\n",
       "    .dataframe tbody tr th:only-of-type {\n",
       "        vertical-align: middle;\n",
       "    }\n",
       "\n",
       "    .dataframe tbody tr th {\n",
       "        vertical-align: top;\n",
       "    }\n",
       "\n",
       "    .dataframe thead th {\n",
       "        text-align: right;\n",
       "    }\n",
       "</style>\n",
       "<table border=\"1\" class=\"dataframe\">\n",
       "  <thead>\n",
       "    <tr style=\"text-align: right;\">\n",
       "      <th></th>\n",
       "      <th>Projection</th>\n",
       "    </tr>\n",
       "  </thead>\n",
       "  <tbody>\n",
       "    <tr>\n",
       "      <th>2021-05-08</th>\n",
       "      <td>42.386118</td>\n",
       "    </tr>\n",
       "    <tr>\n",
       "      <th>2021-05-09</th>\n",
       "      <td>43.400222</td>\n",
       "    </tr>\n",
       "    <tr>\n",
       "      <th>2021-05-10</th>\n",
       "      <td>44.431329</td>\n",
       "    </tr>\n",
       "    <tr>\n",
       "      <th>2021-05-11</th>\n",
       "      <td>45.479588</td>\n",
       "    </tr>\n",
       "    <tr>\n",
       "      <th>2021-05-12</th>\n",
       "      <td>46.545148</td>\n",
       "    </tr>\n",
       "    <tr>\n",
       "      <th>2021-05-13</th>\n",
       "      <td>47.628159</td>\n",
       "    </tr>\n",
       "    <tr>\n",
       "      <th>2021-05-14</th>\n",
       "      <td>48.728768</td>\n",
       "    </tr>\n",
       "    <tr>\n",
       "      <th>2021-05-15</th>\n",
       "      <td>49.847125</td>\n",
       "    </tr>\n",
       "    <tr>\n",
       "      <th>2021-05-16</th>\n",
       "      <td>50.983379</td>\n",
       "    </tr>\n",
       "    <tr>\n",
       "      <th>2021-05-17</th>\n",
       "      <td>52.137680</td>\n",
       "    </tr>\n",
       "    <tr>\n",
       "      <th>2021-05-18</th>\n",
       "      <td>53.310177</td>\n",
       "    </tr>\n",
       "    <tr>\n",
       "      <th>2021-05-19</th>\n",
       "      <td>54.501018</td>\n",
       "    </tr>\n",
       "    <tr>\n",
       "      <th>2021-05-20</th>\n",
       "      <td>55.710355</td>\n",
       "    </tr>\n",
       "    <tr>\n",
       "      <th>2021-05-21</th>\n",
       "      <td>56.938335</td>\n",
       "    </tr>\n",
       "    <tr>\n",
       "      <th>2021-05-22</th>\n",
       "      <td>58.185109</td>\n",
       "    </tr>\n",
       "    <tr>\n",
       "      <th>2021-05-23</th>\n",
       "      <td>59.450826</td>\n",
       "    </tr>\n",
       "    <tr>\n",
       "      <th>2021-05-24</th>\n",
       "      <td>60.735636</td>\n",
       "    </tr>\n",
       "    <tr>\n",
       "      <th>2021-05-25</th>\n",
       "      <td>62.039689</td>\n",
       "    </tr>\n",
       "    <tr>\n",
       "      <th>2021-05-26</th>\n",
       "      <td>63.363135</td>\n",
       "    </tr>\n",
       "    <tr>\n",
       "      <th>2021-05-27</th>\n",
       "      <td>64.706123</td>\n",
       "    </tr>\n",
       "    <tr>\n",
       "      <th>2021-05-28</th>\n",
       "      <td>66.068804</td>\n",
       "    </tr>\n",
       "    <tr>\n",
       "      <th>2021-05-29</th>\n",
       "      <td>67.451328</td>\n",
       "    </tr>\n",
       "    <tr>\n",
       "      <th>2021-05-30</th>\n",
       "      <td>68.853844</td>\n",
       "    </tr>\n",
       "    <tr>\n",
       "      <th>2021-05-31</th>\n",
       "      <td>70.276504</td>\n",
       "    </tr>\n",
       "    <tr>\n",
       "      <th>2021-06-01</th>\n",
       "      <td>71.719457</td>\n",
       "    </tr>\n",
       "    <tr>\n",
       "      <th>2021-06-02</th>\n",
       "      <td>73.182853</td>\n",
       "    </tr>\n",
       "    <tr>\n",
       "      <th>2021-06-03</th>\n",
       "      <td>74.666844</td>\n",
       "    </tr>\n",
       "    <tr>\n",
       "      <th>2021-06-04</th>\n",
       "      <td>76.171579</td>\n",
       "    </tr>\n",
       "    <tr>\n",
       "      <th>2021-06-05</th>\n",
       "      <td>77.697209</td>\n",
       "    </tr>\n",
       "    <tr>\n",
       "      <th>2021-06-06</th>\n",
       "      <td>79.243885</td>\n",
       "    </tr>\n",
       "    <tr>\n",
       "      <th>2021-06-07</th>\n",
       "      <td>80.811757</td>\n",
       "    </tr>\n",
       "    <tr>\n",
       "      <th>2021-06-08</th>\n",
       "      <td>82.400977</td>\n",
       "    </tr>\n",
       "    <tr>\n",
       "      <th>2021-06-09</th>\n",
       "      <td>84.011694</td>\n",
       "    </tr>\n",
       "    <tr>\n",
       "      <th>2021-06-10</th>\n",
       "      <td>85.644061</td>\n",
       "    </tr>\n",
       "    <tr>\n",
       "      <th>2021-06-11</th>\n",
       "      <td>87.298227</td>\n",
       "    </tr>\n",
       "    <tr>\n",
       "      <th>2021-06-12</th>\n",
       "      <td>88.974345</td>\n",
       "    </tr>\n",
       "    <tr>\n",
       "      <th>2021-06-13</th>\n",
       "      <td>90.672565</td>\n",
       "    </tr>\n",
       "    <tr>\n",
       "      <th>2021-06-14</th>\n",
       "      <td>92.393038</td>\n",
       "    </tr>\n",
       "    <tr>\n",
       "      <th>2021-06-15</th>\n",
       "      <td>94.135915</td>\n",
       "    </tr>\n",
       "    <tr>\n",
       "      <th>2021-06-16</th>\n",
       "      <td>95.901349</td>\n",
       "    </tr>\n",
       "    <tr>\n",
       "      <th>2021-06-17</th>\n",
       "      <td>97.689490</td>\n",
       "    </tr>\n",
       "    <tr>\n",
       "      <th>2021-06-18</th>\n",
       "      <td>99.500489</td>\n",
       "    </tr>\n",
       "  </tbody>\n",
       "</table>\n",
       "</div>"
      ],
      "text/plain": [
       "            Projection\n",
       "2021-05-08   42.386118\n",
       "2021-05-09   43.400222\n",
       "2021-05-10   44.431329\n",
       "2021-05-11   45.479588\n",
       "2021-05-12   46.545148\n",
       "2021-05-13   47.628159\n",
       "2021-05-14   48.728768\n",
       "2021-05-15   49.847125\n",
       "2021-05-16   50.983379\n",
       "2021-05-17   52.137680\n",
       "2021-05-18   53.310177\n",
       "2021-05-19   54.501018\n",
       "2021-05-20   55.710355\n",
       "2021-05-21   56.938335\n",
       "2021-05-22   58.185109\n",
       "2021-05-23   59.450826\n",
       "2021-05-24   60.735636\n",
       "2021-05-25   62.039689\n",
       "2021-05-26   63.363135\n",
       "2021-05-27   64.706123\n",
       "2021-05-28   66.068804\n",
       "2021-05-29   67.451328\n",
       "2021-05-30   68.853844\n",
       "2021-05-31   70.276504\n",
       "2021-06-01   71.719457\n",
       "2021-06-02   73.182853\n",
       "2021-06-03   74.666844\n",
       "2021-06-04   76.171579\n",
       "2021-06-05   77.697209\n",
       "2021-06-06   79.243885\n",
       "2021-06-07   80.811757\n",
       "2021-06-08   82.400977\n",
       "2021-06-09   84.011694\n",
       "2021-06-10   85.644061\n",
       "2021-06-11   87.298227\n",
       "2021-06-12   88.974345\n",
       "2021-06-13   90.672565\n",
       "2021-06-14   92.393038\n",
       "2021-06-15   94.135915\n",
       "2021-06-16   95.901349\n",
       "2021-06-17   97.689490\n",
       "2021-06-18   99.500489"
      ]
     },
     "execution_count": 444,
     "metadata": {},
     "output_type": "execute_result"
    }
   ],
   "source": [
    "df_plot_pred"
   ]
  },
  {
   "cell_type": "code",
   "execution_count": null,
   "metadata": {},
   "outputs": [],
   "source": []
  }
 ],
 "metadata": {
  "kernelspec": {
   "display_name": "Python 3",
   "language": "python",
   "name": "python3"
  },
  "language_info": {
   "codemirror_mode": {
    "name": "ipython",
    "version": 3
   },
   "file_extension": ".py",
   "mimetype": "text/x-python",
   "name": "python",
   "nbconvert_exporter": "python",
   "pygments_lexer": "ipython3",
   "version": "3.8.5"
  }
 },
 "nbformat": 4,
 "nbformat_minor": 4
}
