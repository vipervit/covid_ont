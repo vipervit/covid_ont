{
 "cells": [
  {
   "cell_type": "code",
   "execution_count": 1,
   "metadata": {},
   "outputs": [],
   "source": [
    "import sys\n",
    "import os\n",
    "sys.path.append(os.getenv('DEV_HOME'))\n",
    "sys.path.append(os.getenv('SITES_HOME'))"
   ]
  },
  {
   "cell_type": "code",
   "execution_count": 2,
   "metadata": {},
   "outputs": [],
   "source": [
    "import os\n",
    "import pandas as pd\n",
    "import matplotlib.pyplot as plt\n",
    "import seaborn as sns\n",
    "from matplotlib.dates import DateFormatter\n",
    "from matplotlib import ticker\n",
    "import matplotlib.dates as mdates\n",
    "import warnings\n",
    "warnings.filterwarnings(action='ignore')"
   ]
  },
  {
   "cell_type": "code",
   "execution_count": 3,
   "metadata": {},
   "outputs": [],
   "source": [
    "import covid_ont\n",
    "from covid_ont import dataset_read, dataset_get, DIR_IMAGES, FIGSIZES"
   ]
  },
  {
   "cell_type": "code",
   "execution_count": 4,
   "metadata": {},
   "outputs": [],
   "source": [
    "dataset_get('Vaccinations')"
   ]
  },
  {
   "cell_type": "code",
   "execution_count": 5,
   "metadata": {},
   "outputs": [],
   "source": [
    "df_vac_src=dataset_read('Vaccinations')"
   ]
  },
  {
   "cell_type": "code",
   "execution_count": 6,
   "metadata": {},
   "outputs": [
    {
     "data": {
      "text/html": [
       "<div>\n",
       "<style scoped>\n",
       "    .dataframe tbody tr th:only-of-type {\n",
       "        vertical-align: middle;\n",
       "    }\n",
       "\n",
       "    .dataframe tbody tr th {\n",
       "        vertical-align: top;\n",
       "    }\n",
       "\n",
       "    .dataframe thead th {\n",
       "        text-align: right;\n",
       "    }\n",
       "</style>\n",
       "<table border=\"1\" class=\"dataframe\">\n",
       "  <thead>\n",
       "    <tr style=\"text-align: right;\">\n",
       "      <th></th>\n",
       "      <th>report_date</th>\n",
       "      <th>previous_day_doses_administered</th>\n",
       "      <th>total_doses_administered</th>\n",
       "      <th>total_doses_in_fully_vaccinated_individuals</th>\n",
       "      <th>total_individuals_fully_vaccinated</th>\n",
       "    </tr>\n",
       "  </thead>\n",
       "  <tbody>\n",
       "    <tr>\n",
       "      <th>0</th>\n",
       "      <td>2020-12-24</td>\n",
       "      <td>NaN</td>\n",
       "      <td>10756</td>\n",
       "      <td>NaN</td>\n",
       "      <td>NaN</td>\n",
       "    </tr>\n",
       "    <tr>\n",
       "      <th>1</th>\n",
       "      <td>2020-12-30</td>\n",
       "      <td>4595.0</td>\n",
       "      <td>18603</td>\n",
       "      <td>NaN</td>\n",
       "      <td>NaN</td>\n",
       "    </tr>\n",
       "    <tr>\n",
       "      <th>2</th>\n",
       "      <td>2020-12-31</td>\n",
       "      <td>5463.0</td>\n",
       "      <td>23502</td>\n",
       "      <td>NaN</td>\n",
       "      <td>NaN</td>\n",
       "    </tr>\n",
       "    <tr>\n",
       "      <th>3</th>\n",
       "      <td>2021-01-01</td>\n",
       "      <td>5415.0</td>\n",
       "      <td>28887</td>\n",
       "      <td>NaN</td>\n",
       "      <td>NaN</td>\n",
       "    </tr>\n",
       "    <tr>\n",
       "      <th>4</th>\n",
       "      <td>2021-01-02</td>\n",
       "      <td>4305.0</td>\n",
       "      <td>33191</td>\n",
       "      <td>NaN</td>\n",
       "      <td>NaN</td>\n",
       "    </tr>\n",
       "  </tbody>\n",
       "</table>\n",
       "</div>"
      ],
      "text/plain": [
       "  report_date  previous_day_doses_administered  total_doses_administered  \\\n",
       "0  2020-12-24                              NaN                     10756   \n",
       "1  2020-12-30                           4595.0                     18603   \n",
       "2  2020-12-31                           5463.0                     23502   \n",
       "3  2021-01-01                           5415.0                     28887   \n",
       "4  2021-01-02                           4305.0                     33191   \n",
       "\n",
       "   total_doses_in_fully_vaccinated_individuals  \\\n",
       "0                                          NaN   \n",
       "1                                          NaN   \n",
       "2                                          NaN   \n",
       "3                                          NaN   \n",
       "4                                          NaN   \n",
       "\n",
       "   total_individuals_fully_vaccinated  \n",
       "0                                 NaN  \n",
       "1                                 NaN  \n",
       "2                                 NaN  \n",
       "3                                 NaN  \n",
       "4                                 NaN  "
      ]
     },
     "execution_count": 6,
     "metadata": {},
     "output_type": "execute_result"
    }
   ],
   "source": [
    "df_vac_src.head()"
   ]
  },
  {
   "cell_type": "code",
   "execution_count": 7,
   "metadata": {},
   "outputs": [
    {
     "data": {
      "image/png": "[encoded data removed]",
      "text/plain": [
       "<Figure size 1224x504 with 1 Axes>"
      ]
     },
     "metadata": {
      "needs_background": "light"
     },
     "output_type": "display_data"
    }
   ],
   "source": [
    "import matplotlib.patches as mpatches\n",
    "\n",
    "plt.style.use('seaborn-poster')\n",
    "\n",
    "df_doses=df_vac_src[['report_date','total_doses_administered', 'total_doses_in_fully_vaccinated_individuals']]\n",
    "df_doses.columns=['Date', 'Doses Administered', 'Doses in Fully Vaccinated']\n",
    "df_doses.fillna(0, inplace=True)\n",
    "df_doses.set_index('Date', inplace=True)\n",
    "df_doses.index=pd.to_datetime(df_doses.index)\n",
    "\n",
    "fig, ax = plt.subplots(figsize=FIGSIZES)\n",
    "ax.bar(df_doses.index, df_doses['Doses Administered'], alpha=0.7, color='cyan')\n",
    "ax.bar(df_doses.index, df_doses['Doses in Fully Vaccinated'], alpha=0.8, color='deepskyblue')\n",
    "sns.despine(top=True, bottom=True, right=True, left=True)\n",
    "top_bar = mpatches.Patch(color='deepskyblue', label='Doses in Fully Vaccinated')\n",
    "bottom_bar = mpatches.Patch(color='cyan', label='Total Administered Doses')\n",
    "ax.set_xlabel('')\n",
    "ax.set_ylabel('')\n",
    "ax.get_yaxis().set_major_formatter(ticker.FuncFormatter(lambda x, p: format(int(x), ',')))\n",
    "ax.xaxis.set_major_locator(mdates.WeekdayLocator(interval=4))\n",
    "ax.xaxis.set_major_formatter(mdates.DateFormatter('%b-%Y'))\n",
    "plt.legend(handles=[top_bar, bottom_bar])\n",
    "plt.title('Vaccinations', fontsize=18)"
   ]
  }
 ],
 "metadata": {
  "kernelspec": {
   "display_name": "Python 3",
   "language": "python",
   "name": "python3"
  },
  "language_info": {
   "codemirror_mode": {
    "name": "ipython",
    "version": 3
   },
   "file_extension": ".py",
   "mimetype": "text/x-python",
   "name": "python",
   "nbconvert_exporter": "python",
   "pygments_lexer": "ipython3",
   "version": "3.8.5"
  }
 },
 "nbformat": 4,
 "nbformat_minor": 4
}
