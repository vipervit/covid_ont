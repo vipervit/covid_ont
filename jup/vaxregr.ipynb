{
 "cells": [
  {
   "cell_type": "code",
   "execution_count": 1,
   "metadata": {},
   "outputs": [],
   "source": [
    "import os\n",
    "import sys\n",
    "import pandas as pd\n",
    "import matplotlib.pyplot as plt\n",
    "import seaborn as sns\n",
    "from matplotlib.dates import DateFormatter\n",
    "from matplotlib import ticker\n",
    "import matplotlib.dates as mdates\n",
    "import warnings\n",
    "warnings.simplefilter(action='ignore', category=FutureWarning)\n",
    "# warnings.simplefilter(action='ignore', category='SettingWithCopyWarning')\n",
    "from sklearn.linear_model import LinearRegression, Ridge, RidgeCV\n",
    "from sklearn.preprocessing import PolynomialFeatures\n",
    "from sklearn.model_selection import train_test_split\n",
    "from sklearn.pipeline import make_pipeline\n",
    "import numpy as np"
   ]
  },
  {
   "cell_type": "code",
   "execution_count": 2,
   "metadata": {},
   "outputs": [],
   "source": [
    "sys.path.append(os.getenv('DEV_HOME'))\n",
    "sys.path.append(os.getenv('SITES_HOME'))"
   ]
  },
  {
   "cell_type": "code",
   "execution_count": 3,
   "metadata": {},
   "outputs": [],
   "source": [
    "import covid_ont\n",
    "from covid_ont import dataset_read, dataset_get, DIR_IMAGES, FIGSIZES"
   ]
  },
  {
   "cell_type": "code",
   "execution_count": 4,
   "metadata": {},
   "outputs": [],
   "source": [
    "ontario_pop_estimate=14755211 # Q1 2021, source: https://www150.statcan.gc.ca/t1/tbl1/en/tv.action?pid=1710000901\n",
    "forecast_depth=300"
   ]
  },
  {
   "cell_type": "markdown",
   "metadata": {},
   "source": [
    "## Data"
   ]
  },
  {
   "cell_type": "code",
   "execution_count": 5,
   "metadata": {},
   "outputs": [],
   "source": [
    "dataset_get('Vaccinations')"
   ]
  },
  {
   "cell_type": "code",
   "execution_count": 6,
   "metadata": {},
   "outputs": [
    {
     "data": {
      "text/html": [
       "<div>\n",
       "<style scoped>\n",
       "    .dataframe tbody tr th:only-of-type {\n",
       "        vertical-align: middle;\n",
       "    }\n",
       "\n",
       "    .dataframe tbody tr th {\n",
       "        vertical-align: top;\n",
       "    }\n",
       "\n",
       "    .dataframe thead th {\n",
       "        text-align: right;\n",
       "    }\n",
       "</style>\n",
       "<table border=\"1\" class=\"dataframe\">\n",
       "  <thead>\n",
       "    <tr style=\"text-align: right;\">\n",
       "      <th></th>\n",
       "      <th>Previous Day Doses Administered</th>\n",
       "      <th>Total Doses</th>\n",
       "      <th>Percentage of Population Vaccinated with One Dose</th>\n",
       "      <th>Total Doses in Fully Vaccinated</th>\n",
       "      <th>Total Fully Vaccinated</th>\n",
       "      <th>Percentage of Population Fully Vaccinated</th>\n",
       "    </tr>\n",
       "    <tr>\n",
       "      <th>Date</th>\n",
       "      <th></th>\n",
       "      <th></th>\n",
       "      <th></th>\n",
       "      <th></th>\n",
       "      <th></th>\n",
       "      <th></th>\n",
       "    </tr>\n",
       "  </thead>\n",
       "  <tbody>\n",
       "    <tr>\n",
       "      <th>2021-06-06</th>\n",
       "      <td>158393</td>\n",
       "      <td>9992575</td>\n",
       "      <td>0</td>\n",
       "      <td>2063040</td>\n",
       "      <td>1031520</td>\n",
       "      <td>0</td>\n",
       "    </tr>\n",
       "    <tr>\n",
       "      <th>2021-06-07</th>\n",
       "      <td>116829</td>\n",
       "      <td>10109404</td>\n",
       "      <td>0</td>\n",
       "      <td>2173610</td>\n",
       "      <td>1086805</td>\n",
       "      <td>0</td>\n",
       "    </tr>\n",
       "    <tr>\n",
       "      <th>2021-06-08</th>\n",
       "      <td>158209</td>\n",
       "      <td>10267613</td>\n",
       "      <td>0</td>\n",
       "      <td>2348660</td>\n",
       "      <td>1174330</td>\n",
       "      <td>0</td>\n",
       "    </tr>\n",
       "    <tr>\n",
       "      <th>2021-06-09</th>\n",
       "      <td>177506</td>\n",
       "      <td>10445119</td>\n",
       "      <td>0</td>\n",
       "      <td>2565352</td>\n",
       "      <td>1282676</td>\n",
       "      <td>0</td>\n",
       "    </tr>\n",
       "    <tr>\n",
       "      <th>2021-06-10</th>\n",
       "      <td>182350</td>\n",
       "      <td>10627469</td>\n",
       "      <td>0</td>\n",
       "      <td>2799552</td>\n",
       "      <td>1399776</td>\n",
       "      <td>0</td>\n",
       "    </tr>\n",
       "  </tbody>\n",
       "</table>\n",
       "</div>"
      ],
      "text/plain": [
       "            Previous Day Doses Administered  Total Doses  \\\n",
       "Date                                                       \n",
       "2021-06-06                           158393      9992575   \n",
       "2021-06-07                           116829     10109404   \n",
       "2021-06-08                           158209     10267613   \n",
       "2021-06-09                           177506     10445119   \n",
       "2021-06-10                           182350     10627469   \n",
       "\n",
       "            Percentage of Population Vaccinated with One Dose  \\\n",
       "Date                                                            \n",
       "2021-06-06                                                  0   \n",
       "2021-06-07                                                  0   \n",
       "2021-06-08                                                  0   \n",
       "2021-06-09                                                  0   \n",
       "2021-06-10                                                  0   \n",
       "\n",
       "            Total Doses in Fully Vaccinated  Total Fully Vaccinated  \\\n",
       "Date                                                                  \n",
       "2021-06-06                          2063040                 1031520   \n",
       "2021-06-07                          2173610                 1086805   \n",
       "2021-06-08                          2348660                 1174330   \n",
       "2021-06-09                          2565352                 1282676   \n",
       "2021-06-10                          2799552                 1399776   \n",
       "\n",
       "            Percentage of Population Fully Vaccinated  \n",
       "Date                                                   \n",
       "2021-06-06                                          0  \n",
       "2021-06-07                                          0  \n",
       "2021-06-08                                          0  \n",
       "2021-06-09                                          0  \n",
       "2021-06-10                                          0  "
      ]
     },
     "execution_count": 6,
     "metadata": {},
     "output_type": "execute_result"
    }
   ],
   "source": [
    "df=dataset_read('Vaccinations')[['report_date', 'previous_day_total_doses_administered', 'total_doses_administered', 'total_doses_in_fully_vaccinated_individuals', 'total_individuals_fully_vaccinated']]\n",
    "df.columns=['Date', 'Previous Day Doses Administered', 'Total Doses', 'Total Doses in Fully Vaccinated', 'Total Fully Vaccinated']\n",
    "df.fillna(0, inplace=True)\n",
    "df.set_index('Date', inplace=True)\n",
    "df=df.astype(int)\n",
    "df.index=pd.to_datetime(df.index)\n",
    "df.insert(column='Percentage of Population Vaccinated with One Dose', loc=2, value=0)\n",
    "df.insert(column='Percentage of Population Fully Vaccinated', loc=5, value=0)\n",
    "df.tail()"
   ]
  },
  {
   "cell_type": "code",
   "execution_count": 7,
   "metadata": {},
   "outputs": [
    {
     "data": {
      "text/html": [
       "<div>\n",
       "<style scoped>\n",
       "    .dataframe tbody tr th:only-of-type {\n",
       "        vertical-align: middle;\n",
       "    }\n",
       "\n",
       "    .dataframe tbody tr th {\n",
       "        vertical-align: top;\n",
       "    }\n",
       "\n",
       "    .dataframe thead th {\n",
       "        text-align: right;\n",
       "    }\n",
       "</style>\n",
       "<table border=\"1\" class=\"dataframe\">\n",
       "  <thead>\n",
       "    <tr style=\"text-align: right;\">\n",
       "      <th></th>\n",
       "      <th>Previous Day Doses Administered</th>\n",
       "      <th>Total Doses</th>\n",
       "      <th>Percentage of Population Vaccinated with One Dose</th>\n",
       "      <th>Total Doses in Fully Vaccinated</th>\n",
       "      <th>Total Fully Vaccinated</th>\n",
       "      <th>Percentage of Population Fully Vaccinated</th>\n",
       "    </tr>\n",
       "    <tr>\n",
       "      <th>Date</th>\n",
       "      <th></th>\n",
       "      <th></th>\n",
       "      <th></th>\n",
       "      <th></th>\n",
       "      <th></th>\n",
       "      <th></th>\n",
       "    </tr>\n",
       "  </thead>\n",
       "  <tbody>\n",
       "    <tr>\n",
       "      <th>2020-12-24</th>\n",
       "      <td>0</td>\n",
       "      <td>10756</td>\n",
       "      <td>0</td>\n",
       "      <td>0</td>\n",
       "      <td>0</td>\n",
       "      <td>0</td>\n",
       "    </tr>\n",
       "    <tr>\n",
       "      <th>2020-12-30</th>\n",
       "      <td>7847</td>\n",
       "      <td>18603</td>\n",
       "      <td>0</td>\n",
       "      <td>0</td>\n",
       "      <td>0</td>\n",
       "      <td>0</td>\n",
       "    </tr>\n",
       "    <tr>\n",
       "      <th>2020-12-31</th>\n",
       "      <td>4899</td>\n",
       "      <td>23502</td>\n",
       "      <td>0</td>\n",
       "      <td>0</td>\n",
       "      <td>0</td>\n",
       "      <td>0</td>\n",
       "    </tr>\n",
       "    <tr>\n",
       "      <th>2021-01-01</th>\n",
       "      <td>5385</td>\n",
       "      <td>28887</td>\n",
       "      <td>0</td>\n",
       "      <td>0</td>\n",
       "      <td>0</td>\n",
       "      <td>0</td>\n",
       "    </tr>\n",
       "    <tr>\n",
       "      <th>2021-01-02</th>\n",
       "      <td>4304</td>\n",
       "      <td>33191</td>\n",
       "      <td>0</td>\n",
       "      <td>0</td>\n",
       "      <td>0</td>\n",
       "      <td>0</td>\n",
       "    </tr>\n",
       "    <tr>\n",
       "      <th>...</th>\n",
       "      <td>...</td>\n",
       "      <td>...</td>\n",
       "      <td>...</td>\n",
       "      <td>...</td>\n",
       "      <td>...</td>\n",
       "      <td>...</td>\n",
       "    </tr>\n",
       "    <tr>\n",
       "      <th>2021-06-06</th>\n",
       "      <td>158393</td>\n",
       "      <td>9992575</td>\n",
       "      <td>0</td>\n",
       "      <td>2063040</td>\n",
       "      <td>1031520</td>\n",
       "      <td>0</td>\n",
       "    </tr>\n",
       "    <tr>\n",
       "      <th>2021-06-07</th>\n",
       "      <td>116829</td>\n",
       "      <td>10109404</td>\n",
       "      <td>0</td>\n",
       "      <td>2173610</td>\n",
       "      <td>1086805</td>\n",
       "      <td>0</td>\n",
       "    </tr>\n",
       "    <tr>\n",
       "      <th>2021-06-08</th>\n",
       "      <td>158209</td>\n",
       "      <td>10267613</td>\n",
       "      <td>0</td>\n",
       "      <td>2348660</td>\n",
       "      <td>1174330</td>\n",
       "      <td>0</td>\n",
       "    </tr>\n",
       "    <tr>\n",
       "      <th>2021-06-09</th>\n",
       "      <td>177506</td>\n",
       "      <td>10445119</td>\n",
       "      <td>0</td>\n",
       "      <td>2565352</td>\n",
       "      <td>1282676</td>\n",
       "      <td>0</td>\n",
       "    </tr>\n",
       "    <tr>\n",
       "      <th>2021-06-10</th>\n",
       "      <td>182350</td>\n",
       "      <td>10627469</td>\n",
       "      <td>0</td>\n",
       "      <td>2799552</td>\n",
       "      <td>1399776</td>\n",
       "      <td>0</td>\n",
       "    </tr>\n",
       "  </tbody>\n",
       "</table>\n",
       "<p>164 rows × 6 columns</p>\n",
       "</div>"
      ],
      "text/plain": [
       "            Previous Day Doses Administered  Total Doses  \\\n",
       "Date                                                       \n",
       "2020-12-24                                0        10756   \n",
       "2020-12-30                             7847        18603   \n",
       "2020-12-31                             4899        23502   \n",
       "2021-01-01                             5385        28887   \n",
       "2021-01-02                             4304        33191   \n",
       "...                                     ...          ...   \n",
       "2021-06-06                           158393      9992575   \n",
       "2021-06-07                           116829     10109404   \n",
       "2021-06-08                           158209     10267613   \n",
       "2021-06-09                           177506     10445119   \n",
       "2021-06-10                           182350     10627469   \n",
       "\n",
       "            Percentage of Population Vaccinated with One Dose  \\\n",
       "Date                                                            \n",
       "2020-12-24                                                  0   \n",
       "2020-12-30                                                  0   \n",
       "2020-12-31                                                  0   \n",
       "2021-01-01                                                  0   \n",
       "2021-01-02                                                  0   \n",
       "...                                                       ...   \n",
       "2021-06-06                                                  0   \n",
       "2021-06-07                                                  0   \n",
       "2021-06-08                                                  0   \n",
       "2021-06-09                                                  0   \n",
       "2021-06-10                                                  0   \n",
       "\n",
       "            Total Doses in Fully Vaccinated  Total Fully Vaccinated  \\\n",
       "Date                                                                  \n",
       "2020-12-24                                0                       0   \n",
       "2020-12-30                                0                       0   \n",
       "2020-12-31                                0                       0   \n",
       "2021-01-01                                0                       0   \n",
       "2021-01-02                                0                       0   \n",
       "...                                     ...                     ...   \n",
       "2021-06-06                          2063040                 1031520   \n",
       "2021-06-07                          2173610                 1086805   \n",
       "2021-06-08                          2348660                 1174330   \n",
       "2021-06-09                          2565352                 1282676   \n",
       "2021-06-10                          2799552                 1399776   \n",
       "\n",
       "            Percentage of Population Fully Vaccinated  \n",
       "Date                                                   \n",
       "2020-12-24                                          0  \n",
       "2020-12-30                                          0  \n",
       "2020-12-31                                          0  \n",
       "2021-01-01                                          0  \n",
       "2021-01-02                                          0  \n",
       "...                                               ...  \n",
       "2021-06-06                                          0  \n",
       "2021-06-07                                          0  \n",
       "2021-06-08                                          0  \n",
       "2021-06-09                                          0  \n",
       "2021-06-10                                          0  \n",
       "\n",
       "[164 rows x 6 columns]"
      ]
     },
     "execution_count": 7,
     "metadata": {},
     "output_type": "execute_result"
    }
   ],
   "source": [
    "df"
   ]
  },
  {
   "cell_type": "code",
   "execution_count": 8,
   "metadata": {},
   "outputs": [
    {
     "data": {
      "text/plain": [
       "(164, 6)"
      ]
     },
     "execution_count": 8,
     "metadata": {},
     "output_type": "execute_result"
    }
   ],
   "source": [
    "df.shape"
   ]
  },
  {
   "cell_type": "code",
   "execution_count": 9,
   "metadata": {},
   "outputs": [
    {
     "data": {
      "text/html": [
       "<div>\n",
       "<style scoped>\n",
       "    .dataframe tbody tr th:only-of-type {\n",
       "        vertical-align: middle;\n",
       "    }\n",
       "\n",
       "    .dataframe tbody tr th {\n",
       "        vertical-align: top;\n",
       "    }\n",
       "\n",
       "    .dataframe thead th {\n",
       "        text-align: right;\n",
       "    }\n",
       "</style>\n",
       "<table border=\"1\" class=\"dataframe\">\n",
       "  <thead>\n",
       "    <tr style=\"text-align: right;\">\n",
       "      <th></th>\n",
       "      <th>Previous Day Doses Administered</th>\n",
       "      <th>Total Doses</th>\n",
       "      <th>Percentage of Population Vaccinated with One Dose</th>\n",
       "      <th>Total Doses in Fully Vaccinated</th>\n",
       "      <th>Total Fully Vaccinated</th>\n",
       "      <th>Percentage of Population Fully Vaccinated</th>\n",
       "    </tr>\n",
       "    <tr>\n",
       "      <th>Date</th>\n",
       "      <th></th>\n",
       "      <th></th>\n",
       "      <th></th>\n",
       "      <th></th>\n",
       "      <th></th>\n",
       "      <th></th>\n",
       "    </tr>\n",
       "  </thead>\n",
       "  <tbody>\n",
       "    <tr>\n",
       "      <th>2021-06-06</th>\n",
       "      <td>158393</td>\n",
       "      <td>9992575</td>\n",
       "      <td>67.722346</td>\n",
       "      <td>2063040</td>\n",
       "      <td>1031520</td>\n",
       "      <td>6.990886</td>\n",
       "    </tr>\n",
       "    <tr>\n",
       "      <th>2021-06-07</th>\n",
       "      <td>116829</td>\n",
       "      <td>10109404</td>\n",
       "      <td>68.514127</td>\n",
       "      <td>2173610</td>\n",
       "      <td>1086805</td>\n",
       "      <td>7.365567</td>\n",
       "    </tr>\n",
       "    <tr>\n",
       "      <th>2021-06-08</th>\n",
       "      <td>158209</td>\n",
       "      <td>10267613</td>\n",
       "      <td>69.586352</td>\n",
       "      <td>2348660</td>\n",
       "      <td>1174330</td>\n",
       "      <td>7.958748</td>\n",
       "    </tr>\n",
       "    <tr>\n",
       "      <th>2021-06-09</th>\n",
       "      <td>177506</td>\n",
       "      <td>10445119</td>\n",
       "      <td>70.789357</td>\n",
       "      <td>2565352</td>\n",
       "      <td>1282676</td>\n",
       "      <td>8.693037</td>\n",
       "    </tr>\n",
       "    <tr>\n",
       "      <th>2021-06-10</th>\n",
       "      <td>182350</td>\n",
       "      <td>10627469</td>\n",
       "      <td>72.025192</td>\n",
       "      <td>2799552</td>\n",
       "      <td>1399776</td>\n",
       "      <td>9.486655</td>\n",
       "    </tr>\n",
       "  </tbody>\n",
       "</table>\n",
       "</div>"
      ],
      "text/plain": [
       "            Previous Day Doses Administered  Total Doses  \\\n",
       "Date                                                       \n",
       "2021-06-06                           158393      9992575   \n",
       "2021-06-07                           116829     10109404   \n",
       "2021-06-08                           158209     10267613   \n",
       "2021-06-09                           177506     10445119   \n",
       "2021-06-10                           182350     10627469   \n",
       "\n",
       "            Percentage of Population Vaccinated with One Dose  \\\n",
       "Date                                                            \n",
       "2021-06-06                                          67.722346   \n",
       "2021-06-07                                          68.514127   \n",
       "2021-06-08                                          69.586352   \n",
       "2021-06-09                                          70.789357   \n",
       "2021-06-10                                          72.025192   \n",
       "\n",
       "            Total Doses in Fully Vaccinated  Total Fully Vaccinated  \\\n",
       "Date                                                                  \n",
       "2021-06-06                          2063040                 1031520   \n",
       "2021-06-07                          2173610                 1086805   \n",
       "2021-06-08                          2348660                 1174330   \n",
       "2021-06-09                          2565352                 1282676   \n",
       "2021-06-10                          2799552                 1399776   \n",
       "\n",
       "            Percentage of Population Fully Vaccinated  \n",
       "Date                                                   \n",
       "2021-06-06                                   6.990886  \n",
       "2021-06-07                                   7.365567  \n",
       "2021-06-08                                   7.958748  \n",
       "2021-06-09                                   8.693037  \n",
       "2021-06-10                                   9.486655  "
      ]
     },
     "execution_count": 9,
     "metadata": {},
     "output_type": "execute_result"
    }
   ],
   "source": [
    "df['Percentage of Population Vaccinated with One Dose']= df['Total Doses'].apply(lambda x: x*100/ontario_pop_estimate)\n",
    "df['Percentage of Population Fully Vaccinated'] = df['Total Fully Vaccinated'].apply(lambda x: x*100/ontario_pop_estimate)\n",
    "df.tail()"
   ]
  },
  {
   "cell_type": "code",
   "execution_count": 10,
   "metadata": {},
   "outputs": [
    {
     "data": {
      "text/plain": [
       "<AxesSubplot:xlabel='Date'>"
      ]
     },
     "execution_count": 10,
     "metadata": {},
     "output_type": "execute_result"
    },
    {
     "data": {
      "image/png": "[encoded data removed]",
      "text/plain": [
       "<Figure size 1080x288 with 1 Axes>"
      ]
     },
     "metadata": {
      "needs_background": "light"
     },
     "output_type": "display_data"
    }
   ],
   "source": [
    "df[['Percentage of Population Vaccinated with One Dose']].plot(figsize=(15,4))"
   ]
  },
  {
   "cell_type": "code",
   "execution_count": 11,
   "metadata": {},
   "outputs": [
    {
     "data": {
      "text/plain": [
       "<AxesSubplot:xlabel='Date'>"
      ]
     },
     "execution_count": 11,
     "metadata": {},
     "output_type": "execute_result"
    },
    {
     "data": {
      "image/png": "[encoded data removed]",
      "text/plain": [
       "<Figure size 1080x288 with 1 Axes>"
      ]
     },
     "metadata": {
      "needs_background": "light"
     },
     "output_type": "display_data"
    }
   ],
   "source": [
    "df[['Percentage of Population Fully Vaccinated']].plot(figsize=(15,4))"
   ]
  },
  {
   "cell_type": "markdown",
   "metadata": {},
   "source": [
    "## Time Expanded "
   ]
  },
  {
   "cell_type": "code",
   "execution_count": 12,
   "metadata": {},
   "outputs": [
    {
     "data": {
      "text/html": [
       "<div>\n",
       "<style scoped>\n",
       "    .dataframe tbody tr th:only-of-type {\n",
       "        vertical-align: middle;\n",
       "    }\n",
       "\n",
       "    .dataframe tbody tr th {\n",
       "        vertical-align: top;\n",
       "    }\n",
       "\n",
       "    .dataframe thead th {\n",
       "        text-align: right;\n",
       "    }\n",
       "</style>\n",
       "<table border=\"1\" class=\"dataframe\">\n",
       "  <thead>\n",
       "    <tr style=\"text-align: right;\">\n",
       "      <th></th>\n",
       "      <th>Previous Day Doses Administered</th>\n",
       "      <th>Total Doses</th>\n",
       "      <th>Percentage of Population Vaccinated with One Dose</th>\n",
       "      <th>Total Doses in Fully Vaccinated</th>\n",
       "      <th>Total Fully Vaccinated</th>\n",
       "      <th>Percentage of Population Fully Vaccinated</th>\n",
       "    </tr>\n",
       "  </thead>\n",
       "  <tbody>\n",
       "    <tr>\n",
       "      <th>2020-12-24</th>\n",
       "      <td>0</td>\n",
       "      <td>10756</td>\n",
       "      <td>0.072896</td>\n",
       "      <td>0</td>\n",
       "      <td>0</td>\n",
       "      <td>0.0</td>\n",
       "    </tr>\n",
       "    <tr>\n",
       "      <th>2020-12-30</th>\n",
       "      <td>7847</td>\n",
       "      <td>18603</td>\n",
       "      <td>0.126077</td>\n",
       "      <td>0</td>\n",
       "      <td>0</td>\n",
       "      <td>0.0</td>\n",
       "    </tr>\n",
       "    <tr>\n",
       "      <th>2020-12-31</th>\n",
       "      <td>4899</td>\n",
       "      <td>23502</td>\n",
       "      <td>0.159279</td>\n",
       "      <td>0</td>\n",
       "      <td>0</td>\n",
       "      <td>0.0</td>\n",
       "    </tr>\n",
       "    <tr>\n",
       "      <th>2021-01-01</th>\n",
       "      <td>5385</td>\n",
       "      <td>28887</td>\n",
       "      <td>0.195775</td>\n",
       "      <td>0</td>\n",
       "      <td>0</td>\n",
       "      <td>0.0</td>\n",
       "    </tr>\n",
       "    <tr>\n",
       "      <th>2021-01-02</th>\n",
       "      <td>4304</td>\n",
       "      <td>33191</td>\n",
       "      <td>0.224944</td>\n",
       "      <td>0</td>\n",
       "      <td>0</td>\n",
       "      <td>0.0</td>\n",
       "    </tr>\n",
       "    <tr>\n",
       "      <th>...</th>\n",
       "      <td>...</td>\n",
       "      <td>...</td>\n",
       "      <td>...</td>\n",
       "      <td>...</td>\n",
       "      <td>...</td>\n",
       "      <td>...</td>\n",
       "    </tr>\n",
       "    <tr>\n",
       "      <th>2022-04-01</th>\n",
       "      <td>0</td>\n",
       "      <td>0</td>\n",
       "      <td>0.000000</td>\n",
       "      <td>0</td>\n",
       "      <td>0</td>\n",
       "      <td>0.0</td>\n",
       "    </tr>\n",
       "    <tr>\n",
       "      <th>2022-04-02</th>\n",
       "      <td>0</td>\n",
       "      <td>0</td>\n",
       "      <td>0.000000</td>\n",
       "      <td>0</td>\n",
       "      <td>0</td>\n",
       "      <td>0.0</td>\n",
       "    </tr>\n",
       "    <tr>\n",
       "      <th>2022-04-03</th>\n",
       "      <td>0</td>\n",
       "      <td>0</td>\n",
       "      <td>0.000000</td>\n",
       "      <td>0</td>\n",
       "      <td>0</td>\n",
       "      <td>0.0</td>\n",
       "    </tr>\n",
       "    <tr>\n",
       "      <th>2022-04-04</th>\n",
       "      <td>0</td>\n",
       "      <td>0</td>\n",
       "      <td>0.000000</td>\n",
       "      <td>0</td>\n",
       "      <td>0</td>\n",
       "      <td>0.0</td>\n",
       "    </tr>\n",
       "    <tr>\n",
       "      <th>2022-04-05</th>\n",
       "      <td>0</td>\n",
       "      <td>0</td>\n",
       "      <td>0.000000</td>\n",
       "      <td>0</td>\n",
       "      <td>0</td>\n",
       "      <td>0.0</td>\n",
       "    </tr>\n",
       "  </tbody>\n",
       "</table>\n",
       "<p>464 rows × 6 columns</p>\n",
       "</div>"
      ],
      "text/plain": [
       "            Previous Day Doses Administered  Total Doses  \\\n",
       "2020-12-24                                0        10756   \n",
       "2020-12-30                             7847        18603   \n",
       "2020-12-31                             4899        23502   \n",
       "2021-01-01                             5385        28887   \n",
       "2021-01-02                             4304        33191   \n",
       "...                                     ...          ...   \n",
       "2022-04-01                                0            0   \n",
       "2022-04-02                                0            0   \n",
       "2022-04-03                                0            0   \n",
       "2022-04-04                                0            0   \n",
       "2022-04-05                                0            0   \n",
       "\n",
       "            Percentage of Population Vaccinated with One Dose  \\\n",
       "2020-12-24                                           0.072896   \n",
       "2020-12-30                                           0.126077   \n",
       "2020-12-31                                           0.159279   \n",
       "2021-01-01                                           0.195775   \n",
       "2021-01-02                                           0.224944   \n",
       "...                                                       ...   \n",
       "2022-04-01                                           0.000000   \n",
       "2022-04-02                                           0.000000   \n",
       "2022-04-03                                           0.000000   \n",
       "2022-04-04                                           0.000000   \n",
       "2022-04-05                                           0.000000   \n",
       "\n",
       "            Total Doses in Fully Vaccinated  Total Fully Vaccinated  \\\n",
       "2020-12-24                                0                       0   \n",
       "2020-12-30                                0                       0   \n",
       "2020-12-31                                0                       0   \n",
       "2021-01-01                                0                       0   \n",
       "2021-01-02                                0                       0   \n",
       "...                                     ...                     ...   \n",
       "2022-04-01                                0                       0   \n",
       "2022-04-02                                0                       0   \n",
       "2022-04-03                                0                       0   \n",
       "2022-04-04                                0                       0   \n",
       "2022-04-05                                0                       0   \n",
       "\n",
       "            Percentage of Population Fully Vaccinated  \n",
       "2020-12-24                                        0.0  \n",
       "2020-12-30                                        0.0  \n",
       "2020-12-31                                        0.0  \n",
       "2021-01-01                                        0.0  \n",
       "2021-01-02                                        0.0  \n",
       "...                                               ...  \n",
       "2022-04-01                                        0.0  \n",
       "2022-04-02                                        0.0  \n",
       "2022-04-03                                        0.0  \n",
       "2022-04-04                                        0.0  \n",
       "2022-04-05                                        0.0  \n",
       "\n",
       "[464 rows x 6 columns]"
      ]
     },
     "execution_count": 12,
     "metadata": {},
     "output_type": "execute_result"
    }
   ],
   "source": [
    "df_future=df.append(pd.DataFrame([[0,0,0,0,0,0] for i in range(forecast_depth)], index=pd.date_range(start=df.index.max(), periods=forecast_depth, freq='D'), columns=df.columns))\n",
    "df_future"
   ]
  },
  {
   "cell_type": "code",
   "execution_count": 13,
   "metadata": {},
   "outputs": [
    {
     "data": {
      "text/plain": [
       "<AxesSubplot:>"
      ]
     },
     "execution_count": 13,
     "metadata": {},
     "output_type": "execute_result"
    },
    {
     "data": {
      "image/png": "[encoded data removed]",
      "text/plain": [
       "<Figure size 1080x504 with 1 Axes>"
      ]
     },
     "metadata": {
      "needs_background": "light"
     },
     "output_type": "display_data"
    }
   ],
   "source": [
    "df_future['Percentage of Population Vaccinated with One Dose'].plot(figsize=(15,7))"
   ]
  },
  {
   "cell_type": "markdown",
   "metadata": {},
   "source": [
    "## Model"
   ]
  },
  {
   "cell_type": "code",
   "execution_count": 14,
   "metadata": {},
   "outputs": [],
   "source": [
    "X_act=np.reshape(df.index, (-1,1)) \n",
    "y_act=df['Percentage of Population Vaccinated with One Dose']"
   ]
  },
  {
   "cell_type": "code",
   "execution_count": 15,
   "metadata": {},
   "outputs": [],
   "source": [
    "X_train, X_test, y_train, y_test = train_test_split(X_act, y_act, test_size=0.8, random_state=42)"
   ]
  },
  {
   "cell_type": "code",
   "execution_count": 16,
   "metadata": {},
   "outputs": [
    {
     "data": {
      "text/plain": [
       "0.9981060160155961"
      ]
     },
     "execution_count": 16,
     "metadata": {},
     "output_type": "execute_result"
    }
   ],
   "source": [
    "pipe=make_pipeline(PolynomialFeatures(degree=6), Ridge())\n",
    "pipe.fit(X_train, y_train).score(X_test, y_test)"
   ]
  },
  {
   "cell_type": "code",
   "execution_count": 17,
   "metadata": {},
   "outputs": [],
   "source": [
    "yhat=pipe.predict(X_act)"
   ]
  },
  {
   "cell_type": "code",
   "execution_count": 18,
   "metadata": {},
   "outputs": [
    {
     "data": {
      "text/plain": [
       "[<matplotlib.lines.Line2D at 0x11f935fd0>]"
      ]
     },
     "execution_count": 18,
     "metadata": {},
     "output_type": "execute_result"
    },
    {
     "data": {
      "image/png": "[encoded data removed]",
      "text/plain": [
       "<Figure size 1224x504 with 1 Axes>"
      ]
     },
     "metadata": {
      "needs_background": "light"
     },
     "output_type": "display_data"
    }
   ],
   "source": [
    "plt.figure(figsize=FIGSIZES)\n",
    "plt.plot(df.index, yhat)"
   ]
  },
  {
   "cell_type": "code",
   "execution_count": 19,
   "metadata": {},
   "outputs": [
    {
     "data": {
      "text/plain": [
       "<matplotlib.legend.Legend at 0x120179fa0>"
      ]
     },
     "execution_count": 19,
     "metadata": {},
     "output_type": "execute_result"
    },
    {
     "data": {
      "image/png": "[encoded data removed]",
      "text/plain": [
       "<Figure size 1224x504 with 1 Axes>"
      ]
     },
     "metadata": {
      "needs_background": "light"
     },
     "output_type": "display_data"
    }
   ],
   "source": [
    "plt.figure(figsize=FIGSIZES)\n",
    "sns.lineplot(x=df.index, y=y_act)\n",
    "sns.lineplot(x=df.index, y=yhat)\n",
    "plt.legend(['truth', 'predicted'])"
   ]
  },
  {
   "cell_type": "code",
   "execution_count": 20,
   "metadata": {},
   "outputs": [
    {
     "data": {
      "text/html": [
       "<div>\n",
       "<style scoped>\n",
       "    .dataframe tbody tr th:only-of-type {\n",
       "        vertical-align: middle;\n",
       "    }\n",
       "\n",
       "    .dataframe tbody tr th {\n",
       "        vertical-align: top;\n",
       "    }\n",
       "\n",
       "    .dataframe thead th {\n",
       "        text-align: right;\n",
       "    }\n",
       "</style>\n",
       "<table border=\"1\" class=\"dataframe\">\n",
       "  <thead>\n",
       "    <tr style=\"text-align: right;\">\n",
       "      <th></th>\n",
       "      <th>Previous Day Doses Administered</th>\n",
       "      <th>Total Doses</th>\n",
       "      <th>Percentage of Population Vaccinated with One Dose</th>\n",
       "      <th>Total Doses in Fully Vaccinated</th>\n",
       "      <th>Total Fully Vaccinated</th>\n",
       "      <th>Percentage of Population Fully Vaccinated</th>\n",
       "    </tr>\n",
       "  </thead>\n",
       "  <tbody>\n",
       "    <tr>\n",
       "      <th>2020-12-24</th>\n",
       "      <td>0</td>\n",
       "      <td>10756</td>\n",
       "      <td>0.072896</td>\n",
       "      <td>0</td>\n",
       "      <td>0</td>\n",
       "      <td>0.0</td>\n",
       "    </tr>\n",
       "    <tr>\n",
       "      <th>2020-12-30</th>\n",
       "      <td>7847</td>\n",
       "      <td>18603</td>\n",
       "      <td>0.126077</td>\n",
       "      <td>0</td>\n",
       "      <td>0</td>\n",
       "      <td>0.0</td>\n",
       "    </tr>\n",
       "    <tr>\n",
       "      <th>2020-12-31</th>\n",
       "      <td>4899</td>\n",
       "      <td>23502</td>\n",
       "      <td>0.159279</td>\n",
       "      <td>0</td>\n",
       "      <td>0</td>\n",
       "      <td>0.0</td>\n",
       "    </tr>\n",
       "    <tr>\n",
       "      <th>2021-01-01</th>\n",
       "      <td>5385</td>\n",
       "      <td>28887</td>\n",
       "      <td>0.195775</td>\n",
       "      <td>0</td>\n",
       "      <td>0</td>\n",
       "      <td>0.0</td>\n",
       "    </tr>\n",
       "    <tr>\n",
       "      <th>2021-01-02</th>\n",
       "      <td>4304</td>\n",
       "      <td>33191</td>\n",
       "      <td>0.224944</td>\n",
       "      <td>0</td>\n",
       "      <td>0</td>\n",
       "      <td>0.0</td>\n",
       "    </tr>\n",
       "    <tr>\n",
       "      <th>...</th>\n",
       "      <td>...</td>\n",
       "      <td>...</td>\n",
       "      <td>...</td>\n",
       "      <td>...</td>\n",
       "      <td>...</td>\n",
       "      <td>...</td>\n",
       "    </tr>\n",
       "    <tr>\n",
       "      <th>2022-04-01</th>\n",
       "      <td>0</td>\n",
       "      <td>0</td>\n",
       "      <td>0.000000</td>\n",
       "      <td>0</td>\n",
       "      <td>0</td>\n",
       "      <td>0.0</td>\n",
       "    </tr>\n",
       "    <tr>\n",
       "      <th>2022-04-02</th>\n",
       "      <td>0</td>\n",
       "      <td>0</td>\n",
       "      <td>0.000000</td>\n",
       "      <td>0</td>\n",
       "      <td>0</td>\n",
       "      <td>0.0</td>\n",
       "    </tr>\n",
       "    <tr>\n",
       "      <th>2022-04-03</th>\n",
       "      <td>0</td>\n",
       "      <td>0</td>\n",
       "      <td>0.000000</td>\n",
       "      <td>0</td>\n",
       "      <td>0</td>\n",
       "      <td>0.0</td>\n",
       "    </tr>\n",
       "    <tr>\n",
       "      <th>2022-04-04</th>\n",
       "      <td>0</td>\n",
       "      <td>0</td>\n",
       "      <td>0.000000</td>\n",
       "      <td>0</td>\n",
       "      <td>0</td>\n",
       "      <td>0.0</td>\n",
       "    </tr>\n",
       "    <tr>\n",
       "      <th>2022-04-05</th>\n",
       "      <td>0</td>\n",
       "      <td>0</td>\n",
       "      <td>0.000000</td>\n",
       "      <td>0</td>\n",
       "      <td>0</td>\n",
       "      <td>0.0</td>\n",
       "    </tr>\n",
       "  </tbody>\n",
       "</table>\n",
       "<p>464 rows × 6 columns</p>\n",
       "</div>"
      ],
      "text/plain": [
       "            Previous Day Doses Administered  Total Doses  \\\n",
       "2020-12-24                                0        10756   \n",
       "2020-12-30                             7847        18603   \n",
       "2020-12-31                             4899        23502   \n",
       "2021-01-01                             5385        28887   \n",
       "2021-01-02                             4304        33191   \n",
       "...                                     ...          ...   \n",
       "2022-04-01                                0            0   \n",
       "2022-04-02                                0            0   \n",
       "2022-04-03                                0            0   \n",
       "2022-04-04                                0            0   \n",
       "2022-04-05                                0            0   \n",
       "\n",
       "            Percentage of Population Vaccinated with One Dose  \\\n",
       "2020-12-24                                           0.072896   \n",
       "2020-12-30                                           0.126077   \n",
       "2020-12-31                                           0.159279   \n",
       "2021-01-01                                           0.195775   \n",
       "2021-01-02                                           0.224944   \n",
       "...                                                       ...   \n",
       "2022-04-01                                           0.000000   \n",
       "2022-04-02                                           0.000000   \n",
       "2022-04-03                                           0.000000   \n",
       "2022-04-04                                           0.000000   \n",
       "2022-04-05                                           0.000000   \n",
       "\n",
       "            Total Doses in Fully Vaccinated  Total Fully Vaccinated  \\\n",
       "2020-12-24                                0                       0   \n",
       "2020-12-30                                0                       0   \n",
       "2020-12-31                                0                       0   \n",
       "2021-01-01                                0                       0   \n",
       "2021-01-02                                0                       0   \n",
       "...                                     ...                     ...   \n",
       "2022-04-01                                0                       0   \n",
       "2022-04-02                                0                       0   \n",
       "2022-04-03                                0                       0   \n",
       "2022-04-04                                0                       0   \n",
       "2022-04-05                                0                       0   \n",
       "\n",
       "            Percentage of Population Fully Vaccinated  \n",
       "2020-12-24                                        0.0  \n",
       "2020-12-30                                        0.0  \n",
       "2020-12-31                                        0.0  \n",
       "2021-01-01                                        0.0  \n",
       "2021-01-02                                        0.0  \n",
       "...                                               ...  \n",
       "2022-04-01                                        0.0  \n",
       "2022-04-02                                        0.0  \n",
       "2022-04-03                                        0.0  \n",
       "2022-04-04                                        0.0  \n",
       "2022-04-05                                        0.0  \n",
       "\n",
       "[464 rows x 6 columns]"
      ]
     },
     "execution_count": 20,
     "metadata": {},
     "output_type": "execute_result"
    }
   ],
   "source": [
    "df_future"
   ]
  },
  {
   "cell_type": "code",
   "execution_count": 21,
   "metadata": {},
   "outputs": [
    {
     "data": {
      "text/plain": [
       "Timestamp('2022-04-05 00:00:00')"
      ]
     },
     "execution_count": 21,
     "metadata": {},
     "output_type": "execute_result"
    }
   ],
   "source": [
    "df_future.index.max()"
   ]
  },
  {
   "cell_type": "code",
   "execution_count": 22,
   "metadata": {},
   "outputs": [
    {
     "data": {
      "text/plain": [
       "Timestamp('2021-06-10 00:00:00')"
      ]
     },
     "execution_count": 22,
     "metadata": {},
     "output_type": "execute_result"
    }
   ],
   "source": [
    "df.index.max()"
   ]
  },
  {
   "cell_type": "markdown",
   "metadata": {},
   "source": [
    "## Prediction"
   ]
  },
  {
   "cell_type": "code",
   "execution_count": 23,
   "metadata": {},
   "outputs": [
    {
     "data": {
      "text/html": [
       "<div>\n",
       "<style scoped>\n",
       "    .dataframe tbody tr th:only-of-type {\n",
       "        vertical-align: middle;\n",
       "    }\n",
       "\n",
       "    .dataframe tbody tr th {\n",
       "        vertical-align: top;\n",
       "    }\n",
       "\n",
       "    .dataframe thead th {\n",
       "        text-align: right;\n",
       "    }\n",
       "</style>\n",
       "<table border=\"1\" class=\"dataframe\">\n",
       "  <thead>\n",
       "    <tr style=\"text-align: right;\">\n",
       "      <th></th>\n",
       "      <th>Percentage of Population Vaccinated with One Dose</th>\n",
       "    </tr>\n",
       "  </thead>\n",
       "  <tbody>\n",
       "    <tr>\n",
       "      <th>2021-06-11</th>\n",
       "      <td>0.0</td>\n",
       "    </tr>\n",
       "    <tr>\n",
       "      <th>2021-06-12</th>\n",
       "      <td>0.0</td>\n",
       "    </tr>\n",
       "    <tr>\n",
       "      <th>2021-06-13</th>\n",
       "      <td>0.0</td>\n",
       "    </tr>\n",
       "    <tr>\n",
       "      <th>2021-06-14</th>\n",
       "      <td>0.0</td>\n",
       "    </tr>\n",
       "    <tr>\n",
       "      <th>2021-06-15</th>\n",
       "      <td>0.0</td>\n",
       "    </tr>\n",
       "    <tr>\n",
       "      <th>...</th>\n",
       "      <td>...</td>\n",
       "    </tr>\n",
       "    <tr>\n",
       "      <th>2022-04-01</th>\n",
       "      <td>0.0</td>\n",
       "    </tr>\n",
       "    <tr>\n",
       "      <th>2022-04-02</th>\n",
       "      <td>0.0</td>\n",
       "    </tr>\n",
       "    <tr>\n",
       "      <th>2022-04-03</th>\n",
       "      <td>0.0</td>\n",
       "    </tr>\n",
       "    <tr>\n",
       "      <th>2022-04-04</th>\n",
       "      <td>0.0</td>\n",
       "    </tr>\n",
       "    <tr>\n",
       "      <th>2022-04-05</th>\n",
       "      <td>0.0</td>\n",
       "    </tr>\n",
       "  </tbody>\n",
       "</table>\n",
       "<p>299 rows × 1 columns</p>\n",
       "</div>"
      ],
      "text/plain": [
       "            Percentage of Population Vaccinated with One Dose\n",
       "2021-06-11                                                0.0\n",
       "2021-06-12                                                0.0\n",
       "2021-06-13                                                0.0\n",
       "2021-06-14                                                0.0\n",
       "2021-06-15                                                0.0\n",
       "...                                                       ...\n",
       "2022-04-01                                                0.0\n",
       "2022-04-02                                                0.0\n",
       "2022-04-03                                                0.0\n",
       "2022-04-04                                                0.0\n",
       "2022-04-05                                                0.0\n",
       "\n",
       "[299 rows x 1 columns]"
      ]
     },
     "execution_count": 23,
     "metadata": {},
     "output_type": "execute_result"
    }
   ],
   "source": [
    "df_pred=df_future[df_future.index>df.index.max()][['Percentage of Population Vaccinated with One Dose']]\n",
    "df_pred"
   ]
  },
  {
   "cell_type": "code",
   "execution_count": 24,
   "metadata": {},
   "outputs": [],
   "source": [
    "X_pred=np.reshape(df_pred.index, (-1,1))\n",
    "y_pred=pipe.predict(X_pred)"
   ]
  },
  {
   "cell_type": "code",
   "execution_count": 25,
   "metadata": {},
   "outputs": [],
   "source": [
    "df_pred['Percentage of Population Vaccinated with One Dose']=y_pred\n",
    "df_pred=df_pred[df_pred['Percentage of Population Vaccinated with One Dose']<101]\n",
    "df_plot_pred=df_pred.copy()\n",
    "df_plot_pred.columns=['Projection']"
   ]
  },
  {
   "cell_type": "code",
   "execution_count": 26,
   "metadata": {},
   "outputs": [],
   "source": [
    "df_plot_act=df.copy()[['Percentage of Population Vaccinated with One Dose']]\n",
    "df_plot_act.columns=['Actual']"
   ]
  },
  {
   "cell_type": "code",
   "execution_count": 27,
   "metadata": {},
   "outputs": [],
   "source": [
    "peak=df_plot_pred[df_plot_pred.index==df_plot_pred.index.max()]\n",
    "sevfive=df_plot_pred[df_plot_pred['Projection'].between(74, 76)]\n",
    "fifty=df_plot_pred[df_plot_pred['Projection'].between(49,51)]\n",
    "today=df_plot_act[df_plot_act.index==df_plot_act.index.max()]"
   ]
  },
  {
   "cell_type": "code",
   "execution_count": 28,
   "metadata": {},
   "outputs": [
    {
     "data": {
      "text/plain": [
       "<matplotlib.collections.LineCollection at 0x120607ca0>"
      ]
     },
     "execution_count": 28,
     "metadata": {},
     "output_type": "execute_result"
    },
    {
     "data": {
      "image/png": "[encoded data removed]",
      "text/plain": [
       "<Figure size 1224x504 with 1 Axes>"
      ]
     },
     "metadata": {
      "needs_background": "light"
     },
     "output_type": "display_data"
    }
   ],
   "source": [
    "# Plot\n",
    "arrowprops={'arrowstyle': '->', 'color': 'blue', 'lw': 4, 'ls': 'dashed'}\n",
    "labels=['Actual', 'Projection']\n",
    "plt.figure(figsize=FIGSIZES)\n",
    "plt.title('Percentage of Population Vaccinated with At Least One Dose', fontsize=15)\n",
    "ax=sns.lineplot(data=df_plot_act, palette=['red'], linewidth=4)\n",
    "sns.lineplot(data=df_plot_pred, palette=['blue'], linewidth=4)\n",
    "ax.set_xlabel('')\n",
    "plt.xlim(df_plot_act.index[0], df_pred.index.max())\n",
    "plt.legend(loc='best')\n",
    "plt.ylim(0, 110)\n",
    "plt.grid()\n",
    "\n",
    "# plt.text(peak.index, 95, '100%', color='b', fontsize=14)\n",
    "plt.text(df_plot_act.index.mean(), peak['Projection']+5, peak.index[0].strftime('%d-%b-%Y'), color='blue', fontsize=12)\n",
    "plt.text(df_plot_act.index.mean(), today['Actual']+5, today.index[0].strftime('%d-%b-%Y'), color='red', fontsize=12)\n",
    "\n",
    "ax.hlines(today['Actual'], df_plot_act.index[0], today.index[0], linestyles='dashed', color='red')\n",
    "ax.hlines(peak['Projection'], df_plot_act.index.min(), df_plot_pred.index.max(), linestyles='dashed', color='blue')\n",
    "\n",
    "plt.vlines(today.index[0], today['Actual'], 0, linestyles='dashed', color='red')\n",
    "# plt.annotate(peak.index[0].strftime('%d-%b-%Y'), xy=(0.98, 0.91), xycoords='axes fraction', xytext=(0.8, 0.91), arrowprops=arrowprops, va='center', color='blue', fontsize=16)"
   ]
  },
  {
   "cell_type": "code",
   "execution_count": null,
   "metadata": {},
   "outputs": [],
   "source": []
  },
  {
   "cell_type": "code",
   "execution_count": null,
   "metadata": {},
   "outputs": [],
   "source": []
  }
 ],
 "metadata": {
  "kernelspec": {
   "display_name": "Python 3",
   "language": "python",
   "name": "python3"
  },
  "language_info": {
   "codemirror_mode": {
    "name": "ipython",
    "version": 3
   },
   "file_extension": ".py",
   "mimetype": "text/x-python",
   "name": "python",
   "nbconvert_exporter": "python",
   "pygments_lexer": "ipython3",
   "version": "3.8.5"
  }
 },
 "nbformat": 4,
 "nbformat_minor": 4
}
