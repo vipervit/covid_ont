{
 "cells": [
  {
   "cell_type": "code",
   "execution_count": 184,
   "metadata": {},
   "outputs": [],
   "source": [
    "import os\n",
    "import sys\n",
    "import pandas as pd\n",
    "import matplotlib.pyplot as plt\n",
    "import seaborn as sns\n",
    "from matplotlib.dates import DateFormatter\n",
    "from matplotlib import ticker\n",
    "import matplotlib.dates as mdates\n",
    "import warnings\n",
    "warnings.simplefilter(action='ignore', category=FutureWarning)\n",
    "# warnings.simplefilter(action='ignore', category='SettingWithCopyWarning')\n",
    "from sklearn.linear_model import LinearRegression, Ridge, RidgeCV\n",
    "from sklearn.preprocessing import PolynomialFeatures\n",
    "from sklearn.model_selection import train_test_split\n",
    "from sklearn.pipeline import make_pipeline\n",
    "import numpy as np"
   ]
  },
  {
   "cell_type": "code",
   "execution_count": 185,
   "metadata": {},
   "outputs": [],
   "source": [
    "sys.path.append(os.getenv('DEV_HOME'))\n",
    "sys.path.append(os.getenv('SITES_HOME'))"
   ]
  },
  {
   "cell_type": "code",
   "execution_count": 186,
   "metadata": {},
   "outputs": [],
   "source": [
    "import covid_ont\n",
    "from covid_ont import dataset_read, dataset_get, DIR_IMAGES, FIGSIZES"
   ]
  },
  {
   "cell_type": "code",
   "execution_count": 187,
   "metadata": {},
   "outputs": [],
   "source": [
    "ontario_pop_estimate=14755211 # Q1 2021, source: https://www150.statcan.gc.ca/t1/tbl1/en/tv.action?pid=1710000901"
   ]
  },
  {
   "cell_type": "markdown",
   "metadata": {},
   "source": [
    "## Data"
   ]
  },
  {
   "cell_type": "code",
   "execution_count": 188,
   "metadata": {},
   "outputs": [
    {
     "data": {
      "text/html": [
       "<div>\n",
       "<style scoped>\n",
       "    .dataframe tbody tr th:only-of-type {\n",
       "        vertical-align: middle;\n",
       "    }\n",
       "\n",
       "    .dataframe tbody tr th {\n",
       "        vertical-align: top;\n",
       "    }\n",
       "\n",
       "    .dataframe thead th {\n",
       "        text-align: right;\n",
       "    }\n",
       "</style>\n",
       "<table border=\"1\" class=\"dataframe\">\n",
       "  <thead>\n",
       "    <tr style=\"text-align: right;\">\n",
       "      <th></th>\n",
       "      <th>Previous Day Doses Administered</th>\n",
       "      <th>Total Doses</th>\n",
       "      <th>Percentage of Population Vaccinated with One Dose</th>\n",
       "      <th>Total Doses in Fully Vaccinated</th>\n",
       "      <th>Total Fully Vaccinated</th>\n",
       "      <th>Percentage of Population Fully Vaccinated</th>\n",
       "    </tr>\n",
       "    <tr>\n",
       "      <th>Date</th>\n",
       "      <th></th>\n",
       "      <th></th>\n",
       "      <th></th>\n",
       "      <th></th>\n",
       "      <th></th>\n",
       "      <th></th>\n",
       "    </tr>\n",
       "  </thead>\n",
       "  <tbody>\n",
       "    <tr>\n",
       "      <th>2021-05-02</th>\n",
       "      <td>76685</td>\n",
       "      <td>5324369</td>\n",
       "      <td>0</td>\n",
       "      <td>750560</td>\n",
       "      <td>375280</td>\n",
       "      <td>0</td>\n",
       "    </tr>\n",
       "    <tr>\n",
       "      <th>2021-05-03</th>\n",
       "      <td>53880</td>\n",
       "      <td>5378249</td>\n",
       "      <td>0</td>\n",
       "      <td>751810</td>\n",
       "      <td>375905</td>\n",
       "      <td>0</td>\n",
       "    </tr>\n",
       "    <tr>\n",
       "      <th>2021-05-04</th>\n",
       "      <td>88871</td>\n",
       "      <td>5467120</td>\n",
       "      <td>0</td>\n",
       "      <td>756170</td>\n",
       "      <td>378085</td>\n",
       "      <td>0</td>\n",
       "    </tr>\n",
       "    <tr>\n",
       "      <th>2021-05-05</th>\n",
       "      <td>132603</td>\n",
       "      <td>5599723</td>\n",
       "      <td>0</td>\n",
       "      <td>762246</td>\n",
       "      <td>381123</td>\n",
       "      <td>0</td>\n",
       "    </tr>\n",
       "    <tr>\n",
       "      <th>2021-05-06</th>\n",
       "      <td>141038</td>\n",
       "      <td>5740761</td>\n",
       "      <td>0</td>\n",
       "      <td>769178</td>\n",
       "      <td>384589</td>\n",
       "      <td>0</td>\n",
       "    </tr>\n",
       "  </tbody>\n",
       "</table>\n",
       "</div>"
      ],
      "text/plain": [
       "            Previous Day Doses Administered  Total Doses  \\\n",
       "Date                                                       \n",
       "2021-05-02                            76685      5324369   \n",
       "2021-05-03                            53880      5378249   \n",
       "2021-05-04                            88871      5467120   \n",
       "2021-05-05                           132603      5599723   \n",
       "2021-05-06                           141038      5740761   \n",
       "\n",
       "            Percentage of Population Vaccinated with One Dose  \\\n",
       "Date                                                            \n",
       "2021-05-02                                                  0   \n",
       "2021-05-03                                                  0   \n",
       "2021-05-04                                                  0   \n",
       "2021-05-05                                                  0   \n",
       "2021-05-06                                                  0   \n",
       "\n",
       "            Total Doses in Fully Vaccinated  Total Fully Vaccinated  \\\n",
       "Date                                                                  \n",
       "2021-05-02                           750560                  375280   \n",
       "2021-05-03                           751810                  375905   \n",
       "2021-05-04                           756170                  378085   \n",
       "2021-05-05                           762246                  381123   \n",
       "2021-05-06                           769178                  384589   \n",
       "\n",
       "            Percentage of Population Fully Vaccinated  \n",
       "Date                                                   \n",
       "2021-05-02                                          0  \n",
       "2021-05-03                                          0  \n",
       "2021-05-04                                          0  \n",
       "2021-05-05                                          0  \n",
       "2021-05-06                                          0  "
      ]
     },
     "execution_count": 188,
     "metadata": {},
     "output_type": "execute_result"
    }
   ],
   "source": [
    "df=dataset_read('Vaccinations')\n",
    "df.columns=['Date', 'Previous Day Doses Administered', 'Total Doses', 'Total Doses in Fully Vaccinated', 'Total Fully Vaccinated']\n",
    "df.fillna(0, inplace=True)\n",
    "df.set_index('Date', inplace=True)\n",
    "df=df.astype(int)\n",
    "df.index=pd.to_datetime(df.index)\n",
    "df.insert(column='Percentage of Population Vaccinated with One Dose', loc=2, value=0)\n",
    "df.insert(column='Percentage of Population Fully Vaccinated', loc=5, value=0)\n",
    "df.tail()"
   ]
  },
  {
   "cell_type": "code",
   "execution_count": 189,
   "metadata": {},
   "outputs": [
    {
     "data": {
      "text/plain": [
       "(129, 6)"
      ]
     },
     "execution_count": 189,
     "metadata": {},
     "output_type": "execute_result"
    }
   ],
   "source": [
    "df.shape"
   ]
  },
  {
   "cell_type": "code",
   "execution_count": 190,
   "metadata": {},
   "outputs": [
    {
     "data": {
      "text/html": [
       "<div>\n",
       "<style scoped>\n",
       "    .dataframe tbody tr th:only-of-type {\n",
       "        vertical-align: middle;\n",
       "    }\n",
       "\n",
       "    .dataframe tbody tr th {\n",
       "        vertical-align: top;\n",
       "    }\n",
       "\n",
       "    .dataframe thead th {\n",
       "        text-align: right;\n",
       "    }\n",
       "</style>\n",
       "<table border=\"1\" class=\"dataframe\">\n",
       "  <thead>\n",
       "    <tr style=\"text-align: right;\">\n",
       "      <th></th>\n",
       "      <th>Previous Day Doses Administered</th>\n",
       "      <th>Total Doses</th>\n",
       "      <th>Percentage of Population Vaccinated with One Dose</th>\n",
       "      <th>Total Doses in Fully Vaccinated</th>\n",
       "      <th>Total Fully Vaccinated</th>\n",
       "      <th>Percentage of Population Fully Vaccinated</th>\n",
       "    </tr>\n",
       "    <tr>\n",
       "      <th>Date</th>\n",
       "      <th></th>\n",
       "      <th></th>\n",
       "      <th></th>\n",
       "      <th></th>\n",
       "      <th></th>\n",
       "      <th></th>\n",
       "    </tr>\n",
       "  </thead>\n",
       "  <tbody>\n",
       "    <tr>\n",
       "      <th>2021-05-02</th>\n",
       "      <td>76685</td>\n",
       "      <td>5324369</td>\n",
       "      <td>36.084669</td>\n",
       "      <td>750560</td>\n",
       "      <td>375280</td>\n",
       "      <td>2.543373</td>\n",
       "    </tr>\n",
       "    <tr>\n",
       "      <th>2021-05-03</th>\n",
       "      <td>53880</td>\n",
       "      <td>5378249</td>\n",
       "      <td>36.449828</td>\n",
       "      <td>751810</td>\n",
       "      <td>375905</td>\n",
       "      <td>2.547608</td>\n",
       "    </tr>\n",
       "    <tr>\n",
       "      <th>2021-05-04</th>\n",
       "      <td>88871</td>\n",
       "      <td>5467120</td>\n",
       "      <td>37.052130</td>\n",
       "      <td>756170</td>\n",
       "      <td>378085</td>\n",
       "      <td>2.562383</td>\n",
       "    </tr>\n",
       "    <tr>\n",
       "      <th>2021-05-05</th>\n",
       "      <td>132603</td>\n",
       "      <td>5599723</td>\n",
       "      <td>37.950816</td>\n",
       "      <td>762246</td>\n",
       "      <td>381123</td>\n",
       "      <td>2.582972</td>\n",
       "    </tr>\n",
       "    <tr>\n",
       "      <th>2021-05-06</th>\n",
       "      <td>141038</td>\n",
       "      <td>5740761</td>\n",
       "      <td>38.906668</td>\n",
       "      <td>769178</td>\n",
       "      <td>384589</td>\n",
       "      <td>2.606462</td>\n",
       "    </tr>\n",
       "  </tbody>\n",
       "</table>\n",
       "</div>"
      ],
      "text/plain": [
       "            Previous Day Doses Administered  Total Doses  \\\n",
       "Date                                                       \n",
       "2021-05-02                            76685      5324369   \n",
       "2021-05-03                            53880      5378249   \n",
       "2021-05-04                            88871      5467120   \n",
       "2021-05-05                           132603      5599723   \n",
       "2021-05-06                           141038      5740761   \n",
       "\n",
       "            Percentage of Population Vaccinated with One Dose  \\\n",
       "Date                                                            \n",
       "2021-05-02                                          36.084669   \n",
       "2021-05-03                                          36.449828   \n",
       "2021-05-04                                          37.052130   \n",
       "2021-05-05                                          37.950816   \n",
       "2021-05-06                                          38.906668   \n",
       "\n",
       "            Total Doses in Fully Vaccinated  Total Fully Vaccinated  \\\n",
       "Date                                                                  \n",
       "2021-05-02                           750560                  375280   \n",
       "2021-05-03                           751810                  375905   \n",
       "2021-05-04                           756170                  378085   \n",
       "2021-05-05                           762246                  381123   \n",
       "2021-05-06                           769178                  384589   \n",
       "\n",
       "            Percentage of Population Fully Vaccinated  \n",
       "Date                                                   \n",
       "2021-05-02                                   2.543373  \n",
       "2021-05-03                                   2.547608  \n",
       "2021-05-04                                   2.562383  \n",
       "2021-05-05                                   2.582972  \n",
       "2021-05-06                                   2.606462  "
      ]
     },
     "execution_count": 190,
     "metadata": {},
     "output_type": "execute_result"
    }
   ],
   "source": [
    "df['Percentage of Population Vaccinated with One Dose']= df['Total Doses'].apply(lambda x: x*100/ontario_pop_estimate)\n",
    "df['Percentage of Population Fully Vaccinated'] = df['Total Fully Vaccinated'].apply(lambda x: x*100/ontario_pop_estimate)\n",
    "df.tail()"
   ]
  },
  {
   "cell_type": "code",
   "execution_count": 81,
   "metadata": {},
   "outputs": [
    {
     "data": {
      "text/plain": [
       "<AxesSubplot:xlabel='Date'>"
      ]
     },
     "execution_count": 81,
     "metadata": {},
     "output_type": "execute_result"
    },
    {
     "data": {
      "image/png": "[encoded data removed]",
      "text/plain": [
       "<Figure size 1080x288 with 1 Axes>"
      ]
     },
     "metadata": {
      "needs_background": "light"
     },
     "output_type": "display_data"
    }
   ],
   "source": [
    "df[['Percentage of Population Vaccinated with One Dose']].plot(figsize=(15,4))"
   ]
  },
  {
   "cell_type": "code",
   "execution_count": 82,
   "metadata": {},
   "outputs": [
    {
     "data": {
      "text/plain": [
       "<AxesSubplot:xlabel='Date'>"
      ]
     },
     "execution_count": 82,
     "metadata": {},
     "output_type": "execute_result"
    },
    {
     "data": {
      "image/png": "[encoded data removed]",
      "text/plain": [
       "<Figure size 1080x288 with 1 Axes>"
      ]
     },
     "metadata": {
      "needs_background": "light"
     },
     "output_type": "display_data"
    }
   ],
   "source": [
    "df[['Percentage of Population Fully Vaccinated']].plot(figsize=(15,4))"
   ]
  },
  {
   "cell_type": "markdown",
   "metadata": {},
   "source": [
    "## Time Expanded "
   ]
  },
  {
   "cell_type": "code",
   "execution_count": 85,
   "metadata": {},
   "outputs": [
    {
     "data": {
      "text/html": [
       "<div>\n",
       "<style scoped>\n",
       "    .dataframe tbody tr th:only-of-type {\n",
       "        vertical-align: middle;\n",
       "    }\n",
       "\n",
       "    .dataframe tbody tr th {\n",
       "        vertical-align: top;\n",
       "    }\n",
       "\n",
       "    .dataframe thead th {\n",
       "        text-align: right;\n",
       "    }\n",
       "</style>\n",
       "<table border=\"1\" class=\"dataframe\">\n",
       "  <thead>\n",
       "    <tr style=\"text-align: right;\">\n",
       "      <th></th>\n",
       "      <th>Previous Day Doses Administered</th>\n",
       "      <th>Total Doses</th>\n",
       "      <th>Percentage of Population Vaccinated with One Dose</th>\n",
       "      <th>Total Doses in Fully Vaccinated</th>\n",
       "      <th>Total Fully Vaccinated</th>\n",
       "      <th>Percentage of Population Fully Vaccinated</th>\n",
       "    </tr>\n",
       "  </thead>\n",
       "  <tbody>\n",
       "    <tr>\n",
       "      <th>2020-12-24</th>\n",
       "      <td>0</td>\n",
       "      <td>10756</td>\n",
       "      <td>0.072896</td>\n",
       "      <td>0</td>\n",
       "      <td>0</td>\n",
       "      <td>0.0</td>\n",
       "    </tr>\n",
       "    <tr>\n",
       "      <th>2020-12-30</th>\n",
       "      <td>4595</td>\n",
       "      <td>18603</td>\n",
       "      <td>0.126077</td>\n",
       "      <td>0</td>\n",
       "      <td>0</td>\n",
       "      <td>0.0</td>\n",
       "    </tr>\n",
       "    <tr>\n",
       "      <th>2020-12-31</th>\n",
       "      <td>5463</td>\n",
       "      <td>23502</td>\n",
       "      <td>0.159279</td>\n",
       "      <td>0</td>\n",
       "      <td>0</td>\n",
       "      <td>0.0</td>\n",
       "    </tr>\n",
       "    <tr>\n",
       "      <th>2021-01-01</th>\n",
       "      <td>5415</td>\n",
       "      <td>28887</td>\n",
       "      <td>0.195775</td>\n",
       "      <td>0</td>\n",
       "      <td>0</td>\n",
       "      <td>0.0</td>\n",
       "    </tr>\n",
       "    <tr>\n",
       "      <th>2021-01-02</th>\n",
       "      <td>4305</td>\n",
       "      <td>33191</td>\n",
       "      <td>0.224944</td>\n",
       "      <td>0</td>\n",
       "      <td>0</td>\n",
       "      <td>0.0</td>\n",
       "    </tr>\n",
       "    <tr>\n",
       "      <th>...</th>\n",
       "      <td>...</td>\n",
       "      <td>...</td>\n",
       "      <td>...</td>\n",
       "      <td>...</td>\n",
       "      <td>...</td>\n",
       "      <td>...</td>\n",
       "    </tr>\n",
       "    <tr>\n",
       "      <th>2021-11-17</th>\n",
       "      <td>0</td>\n",
       "      <td>0</td>\n",
       "      <td>0.000000</td>\n",
       "      <td>0</td>\n",
       "      <td>0</td>\n",
       "      <td>0.0</td>\n",
       "    </tr>\n",
       "    <tr>\n",
       "      <th>2021-11-18</th>\n",
       "      <td>0</td>\n",
       "      <td>0</td>\n",
       "      <td>0.000000</td>\n",
       "      <td>0</td>\n",
       "      <td>0</td>\n",
       "      <td>0.0</td>\n",
       "    </tr>\n",
       "    <tr>\n",
       "      <th>2021-11-19</th>\n",
       "      <td>0</td>\n",
       "      <td>0</td>\n",
       "      <td>0.000000</td>\n",
       "      <td>0</td>\n",
       "      <td>0</td>\n",
       "      <td>0.0</td>\n",
       "    </tr>\n",
       "    <tr>\n",
       "      <th>2021-11-20</th>\n",
       "      <td>0</td>\n",
       "      <td>0</td>\n",
       "      <td>0.000000</td>\n",
       "      <td>0</td>\n",
       "      <td>0</td>\n",
       "      <td>0.0</td>\n",
       "    </tr>\n",
       "    <tr>\n",
       "      <th>2021-11-21</th>\n",
       "      <td>0</td>\n",
       "      <td>0</td>\n",
       "      <td>0.000000</td>\n",
       "      <td>0</td>\n",
       "      <td>0</td>\n",
       "      <td>0.0</td>\n",
       "    </tr>\n",
       "  </tbody>\n",
       "</table>\n",
       "<p>329 rows × 6 columns</p>\n",
       "</div>"
      ],
      "text/plain": [
       "            Previous Day Doses Administered  Total Doses  \\\n",
       "2020-12-24                                0        10756   \n",
       "2020-12-30                             4595        18603   \n",
       "2020-12-31                             5463        23502   \n",
       "2021-01-01                             5415        28887   \n",
       "2021-01-02                             4305        33191   \n",
       "...                                     ...          ...   \n",
       "2021-11-17                                0            0   \n",
       "2021-11-18                                0            0   \n",
       "2021-11-19                                0            0   \n",
       "2021-11-20                                0            0   \n",
       "2021-11-21                                0            0   \n",
       "\n",
       "            Percentage of Population Vaccinated with One Dose  \\\n",
       "2020-12-24                                           0.072896   \n",
       "2020-12-30                                           0.126077   \n",
       "2020-12-31                                           0.159279   \n",
       "2021-01-01                                           0.195775   \n",
       "2021-01-02                                           0.224944   \n",
       "...                                                       ...   \n",
       "2021-11-17                                           0.000000   \n",
       "2021-11-18                                           0.000000   \n",
       "2021-11-19                                           0.000000   \n",
       "2021-11-20                                           0.000000   \n",
       "2021-11-21                                           0.000000   \n",
       "\n",
       "            Total Doses in Fully Vaccinated  Total Fully Vaccinated  \\\n",
       "2020-12-24                                0                       0   \n",
       "2020-12-30                                0                       0   \n",
       "2020-12-31                                0                       0   \n",
       "2021-01-01                                0                       0   \n",
       "2021-01-02                                0                       0   \n",
       "...                                     ...                     ...   \n",
       "2021-11-17                                0                       0   \n",
       "2021-11-18                                0                       0   \n",
       "2021-11-19                                0                       0   \n",
       "2021-11-20                                0                       0   \n",
       "2021-11-21                                0                       0   \n",
       "\n",
       "            Percentage of Population Fully Vaccinated  \n",
       "2020-12-24                                        0.0  \n",
       "2020-12-30                                        0.0  \n",
       "2020-12-31                                        0.0  \n",
       "2021-01-01                                        0.0  \n",
       "2021-01-02                                        0.0  \n",
       "...                                               ...  \n",
       "2021-11-17                                        0.0  \n",
       "2021-11-18                                        0.0  \n",
       "2021-11-19                                        0.0  \n",
       "2021-11-20                                        0.0  \n",
       "2021-11-21                                        0.0  \n",
       "\n",
       "[329 rows x 6 columns]"
      ]
     },
     "execution_count": 85,
     "metadata": {},
     "output_type": "execute_result"
    }
   ],
   "source": [
    "df_future=df.append(pd.DataFrame([[0,0,0,0,0,0] for i in range(200)], index=pd.date_range(start=df.index.max(), periods=200, freq='D'), columns=df.columns))\n",
    "df_future"
   ]
  },
  {
   "cell_type": "code",
   "execution_count": 86,
   "metadata": {},
   "outputs": [
    {
     "data": {
      "text/plain": [
       "<AxesSubplot:>"
      ]
     },
     "execution_count": 86,
     "metadata": {},
     "output_type": "execute_result"
    },
    {
     "data": {
      "image/png": "[encoded data removed]",
      "text/plain": [
       "<Figure size 1080x504 with 1 Axes>"
      ]
     },
     "metadata": {
      "needs_background": "light"
     },
     "output_type": "display_data"
    }
   ],
   "source": [
    "df_future['Percentage of Population Vaccinated with One Dose'].plot(figsize=(15,7))"
   ]
  },
  {
   "cell_type": "markdown",
   "metadata": {},
   "source": [
    "## Model"
   ]
  },
  {
   "cell_type": "code",
   "execution_count": 87,
   "metadata": {},
   "outputs": [],
   "source": [
    "X_act=np.reshape(df.index, (-1,1)) \n",
    "y_act=df['Percentage of Population Vaccinated with One Dose']"
   ]
  },
  {
   "cell_type": "code",
   "execution_count": 88,
   "metadata": {},
   "outputs": [],
   "source": [
    "X_train, X_test, y_train, y_test = train_test_split(X_act, y_act, test_size=0.8, random_state=42)"
   ]
  },
  {
   "cell_type": "code",
   "execution_count": 89,
   "metadata": {},
   "outputs": [
    {
     "data": {
      "text/plain": [
       "0.9983500036624312"
      ]
     },
     "execution_count": 89,
     "metadata": {},
     "output_type": "execute_result"
    }
   ],
   "source": [
    "pipe=make_pipeline(PolynomialFeatures(degree=6), Ridge())\n",
    "pipe.fit(X_train, y_train).score(X_test, y_test)"
   ]
  },
  {
   "cell_type": "code",
   "execution_count": 90,
   "metadata": {},
   "outputs": [],
   "source": [
    "yhat=pipe.predict(X_act)"
   ]
  },
  {
   "cell_type": "code",
   "execution_count": 91,
   "metadata": {},
   "outputs": [
    {
     "data": {
      "text/plain": [
       "[<matplotlib.lines.Line2D at 0x11c145070>]"
      ]
     },
     "execution_count": 91,
     "metadata": {},
     "output_type": "execute_result"
    },
    {
     "data": {
      "image/png": "[encoded data removed]",
      "text/plain": [
       "<Figure size 1224x504 with 1 Axes>"
      ]
     },
     "metadata": {
      "needs_background": "light"
     },
     "output_type": "display_data"
    }
   ],
   "source": [
    "plt.figure(figsize=FIGSIZES)\n",
    "plt.plot(df.index, yhat)"
   ]
  },
  {
   "cell_type": "code",
   "execution_count": 92,
   "metadata": {},
   "outputs": [
    {
     "data": {
      "text/plain": [
       "<matplotlib.legend.Legend at 0x11c1c7e80>"
      ]
     },
     "execution_count": 92,
     "metadata": {},
     "output_type": "execute_result"
    },
    {
     "data": {
      "image/png": "[encoded data removed]",
      "text/plain": [
       "<Figure size 1224x504 with 1 Axes>"
      ]
     },
     "metadata": {
      "needs_background": "light"
     },
     "output_type": "display_data"
    }
   ],
   "source": [
    "plt.figure(figsize=FIGSIZES)\n",
    "sns.lineplot(x=df.index, y=y_act)\n",
    "sns.lineplot(x=df.index, y=yhat)\n",
    "plt.legend(['truth', 'predicted'])"
   ]
  },
  {
   "cell_type": "markdown",
   "metadata": {},
   "source": [
    "## Prediction"
   ]
  },
  {
   "cell_type": "code",
   "execution_count": 180,
   "metadata": {},
   "outputs": [
    {
     "data": {
      "text/html": [
       "<div>\n",
       "<style scoped>\n",
       "    .dataframe tbody tr th:only-of-type {\n",
       "        vertical-align: middle;\n",
       "    }\n",
       "\n",
       "    .dataframe tbody tr th {\n",
       "        vertical-align: top;\n",
       "    }\n",
       "\n",
       "    .dataframe thead th {\n",
       "        text-align: right;\n",
       "    }\n",
       "</style>\n",
       "<table border=\"1\" class=\"dataframe\">\n",
       "  <thead>\n",
       "    <tr style=\"text-align: right;\">\n",
       "      <th></th>\n",
       "      <th>Percentage of Population Vaccinated with One Dose</th>\n",
       "    </tr>\n",
       "  </thead>\n",
       "  <tbody>\n",
       "    <tr>\n",
       "      <th>2021-05-07</th>\n",
       "      <td>0.0</td>\n",
       "    </tr>\n",
       "    <tr>\n",
       "      <th>2021-05-08</th>\n",
       "      <td>0.0</td>\n",
       "    </tr>\n",
       "    <tr>\n",
       "      <th>2021-05-09</th>\n",
       "      <td>0.0</td>\n",
       "    </tr>\n",
       "    <tr>\n",
       "      <th>2021-05-10</th>\n",
       "      <td>0.0</td>\n",
       "    </tr>\n",
       "    <tr>\n",
       "      <th>2021-05-11</th>\n",
       "      <td>0.0</td>\n",
       "    </tr>\n",
       "    <tr>\n",
       "      <th>...</th>\n",
       "      <td>...</td>\n",
       "    </tr>\n",
       "    <tr>\n",
       "      <th>2021-11-17</th>\n",
       "      <td>0.0</td>\n",
       "    </tr>\n",
       "    <tr>\n",
       "      <th>2021-11-18</th>\n",
       "      <td>0.0</td>\n",
       "    </tr>\n",
       "    <tr>\n",
       "      <th>2021-11-19</th>\n",
       "      <td>0.0</td>\n",
       "    </tr>\n",
       "    <tr>\n",
       "      <th>2021-11-20</th>\n",
       "      <td>0.0</td>\n",
       "    </tr>\n",
       "    <tr>\n",
       "      <th>2021-11-21</th>\n",
       "      <td>0.0</td>\n",
       "    </tr>\n",
       "  </tbody>\n",
       "</table>\n",
       "<p>199 rows × 1 columns</p>\n",
       "</div>"
      ],
      "text/plain": [
       "            Percentage of Population Vaccinated with One Dose\n",
       "2021-05-07                                                0.0\n",
       "2021-05-08                                                0.0\n",
       "2021-05-09                                                0.0\n",
       "2021-05-10                                                0.0\n",
       "2021-05-11                                                0.0\n",
       "...                                                       ...\n",
       "2021-11-17                                                0.0\n",
       "2021-11-18                                                0.0\n",
       "2021-11-19                                                0.0\n",
       "2021-11-20                                                0.0\n",
       "2021-11-21                                                0.0\n",
       "\n",
       "[199 rows x 1 columns]"
      ]
     },
     "execution_count": 180,
     "metadata": {},
     "output_type": "execute_result"
    }
   ],
   "source": [
    "df_pred=df_future.loc[df_future.index>df.index.max()][['Percentage of Population Vaccinated with One Dose']]\n",
    "df_pred"
   ]
  },
  {
   "cell_type": "code",
   "execution_count": 181,
   "metadata": {},
   "outputs": [],
   "source": [
    "X_pred=np.reshape(df_pred.index, (-1,1))\n",
    "y_pred=pipe.predict(X_pred)"
   ]
  },
  {
   "cell_type": "code",
   "execution_count": 182,
   "metadata": {},
   "outputs": [],
   "source": [
    "df_pred['Percentage of Population Vaccinated with One Dose']=y_pred\n",
    "df_pred=df_pred[df_pred['Percentage of Population Vaccinated with One Dose']<100]\n",
    "df_plot_pred=df_pred.copy()\n",
    "df_plot_pred.columns=['Projection']"
   ]
  },
  {
   "cell_type": "code",
   "execution_count": 192,
   "metadata": {},
   "outputs": [],
   "source": [
    "df_plot_act=df.copy()[['Percentage of Population Vaccinated with One Dose']]\n",
    "df_plot_act.columns=['Actual']"
   ]
  },
  {
   "cell_type": "code",
   "execution_count": 195,
   "metadata": {},
   "outputs": [
    {
     "data": {
      "text/plain": [
       "<AxesSubplot:title={'center':'Percentage of Population Vaccinated with One Dose'}, xlabel='Date'>"
      ]
     },
     "execution_count": 195,
     "metadata": {},
     "output_type": "execute_result"
    },
    {
     "data": {
      "image/png": "[encoded data removed]",
      "text/plain": [
       "<Figure size 1224x504 with 1 Axes>"
      ]
     },
     "metadata": {
      "needs_background": "light"
     },
     "output_type": "display_data"
    }
   ],
   "source": [
    "labels=['Actual', 'Projection']\n",
    "plt.figure(figsize=FIGSIZES)\n",
    "plt.title('Percentage of Population Vaccinated with One Dose', fontsize=18)\n",
    "sns.lineplot(data=df_plot_act, palette=['red'])\n",
    "sns.lineplot(data=df_plot_pred, palette=['blue'])"
   ]
  },
  {
   "cell_type": "code",
   "execution_count": null,
   "metadata": {},
   "outputs": [],
   "source": []
  }
 ],
 "metadata": {
  "kernelspec": {
   "display_name": "Python 3",
   "language": "python",
   "name": "python3"
  },
  "language_info": {
   "codemirror_mode": {
    "name": "ipython",
    "version": 3
   },
   "file_extension": ".py",
   "mimetype": "text/x-python",
   "name": "python",
   "nbconvert_exporter": "python",
   "pygments_lexer": "ipython3",
   "version": "3.8.5"
  }
 },
 "nbformat": 4,
 "nbformat_minor": 4
}
